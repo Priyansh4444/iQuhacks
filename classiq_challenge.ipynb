{
 "cells": [
  {
   "cell_type": "markdown",
   "metadata": {},
   "source": [
    "# Classiq Challenge - Quantum Arithmetics"
   ]
  },
  {
   "cell_type": "markdown",
   "metadata": {},
   "source": [
    "Welcome to the Classiq challenge of the 2024 MIT IQuHack hackathon!\n",
    "This Jupyter notebook is the framework for the challenge and you should follow it in order to solve it using Classiq (alongside the guidelines of the challenge).\n",
    "\n",
    "The notebook has 3 parts:\n",
    "1. A warm up session, just to get up to speed with a small example of Classiq\n",
    "2. The challenge itself, including what you need to create, what's the format, and how you can check yourself\n",
    "3. A cheat sheet with relevant Classiq functions declarations\n",
    "\n",
    "Additional resources you should use are\n",
    "- The IDE of the classiq platform at [platform.classiq.io](platform.classiq.io)\n",
    "- The [community Slack of Classiq](https://short.classiq.io/join-slack) - Classiq's team will answer any question you have over there, including implementation questions\n",
    "- [Classiq's documentation](https://docs.classiq.io/latest/user-guide/platform/) with the dedicated [Python SDK explanations](https://docs.classiq.io/latest/user-guide/platform/qmod/python/functions/)\n",
    "\n",
    "Good luck!"
   ]
  },
  {
   "cell_type": "markdown",
   "metadata": {},
   "source": [
    "![MITClassiq](data:image/png;base64,iVBORw0KGgoAAAANSUhEUgAAAg0AAADbCAYAAADu4KKPAAAMZElEQVR4Ae3d324UV57A8d+pbjM2Jgr7BHFuRjLKaog09zFPMN47AolwngDyBIEnSOYJcDSBRdqLJE+Acx/JrCaCKDc0T7BEAezJ0nW2ysZsQv74ENzu6q7PR3LK/9pyi0j19e+cqk7/eOOvOTri/Qdfp5gAz/F4eY6vpkvPsw8m+W8J86YKAIACogEAKCIaAIAiogEAKCIaAIAiogEAKCIaAIAiogEAKCIaAIAiogEAKCIaAIAiogEAKCIaAIAiogEAKCIaAIAiogEAKCIaAIAiogEAKCIaAIAiogEAKCIaAIAiogEAKCIaAIAiogEAKCIaAIAiogEAKCIaAIAiogEAKCIaAIAiogEAKCIaAIAiogEAKDIMmBHvP/g6RQ/05XkCs8ekAQAoIhoAgCKiAQAoIhoAgCKiAQAoIhoAgCKiAQAoIhoAgCKiAQAoIhoAgCKiAQAoIhoAgCKiAQAoIhoAgCKiAQAoIhoAgCKiAQAoIhoAgCKiAQAoMgyYEfd2LuboiNWlGykm5B9v/LUzz/P9B19P7Hl26d9zno3H+YO3Tt3cDDgCJg0AQBHRAAAUEQ0AQBHRAAAUEQ0AQBHRAAAUEQ0AQBHRAAAUEQ0AQBHRAAAUEQ0AQBHRAAAUEQ0AQBHRAAAUEQ0AQBHRAAAUEQ0AQBHRAAAUEQ0AQBHRAAAUEQ0AQJFhAAAzZ3vn/MrCuFpLKVZyyqcHKb3efn6c8/cpp4cp8p06Px29deq/7sQREQ0AMCP++cP5tTRI68OoLuWI0zE4+Ep6/j1NPDz7MDVfPhHfPrn4sI68Vdfx5Vunbm7GKxANANBh23n99OLuycvN9OBKTk0oNPJLPL59TIq0PhjE+r2dCx81n9qMqD9dXbo1ipdkTwMAdNTdx++uN8Gw3UwNrh4Ew6tJK+3Pak7/t795dGEjXpJoAICOaacL3z658Hmqqs/3T/RHLa0MBul6M3m4f2/n/Erpo0QDAHTId48unG2nCzml9Zi4tNJOHdqJRsl3iwYA6Ih2o2NdpduTmS78lrTSTjTuPnn3ymHfKRoAoAPaYBgOB7ePZu/Cy0up+viwcBANADBl7b6ChcHg85iyvXD4naUK0QAAU7S/EbGa2oThF1J1/bc2R4oGAJiiXLeXQKaV6IjUxEtOg8+388YvIkY0AMCUtPdKSFV1KTom5Th74smPv9jfIBoAYAraJYDBID6KjkopXX5xmUI0AMA0VMNLXVqWeFHa22NR/SxqRAMAHLO9v+DreiM6L238dNogGgDgmI3H1VqXpww/Nc7V870NogEAjtlwmC7HjKgiXTq4kkI0AMAxasf9OcfZmBHt3obFR7t7v+8wAJhbwyp9fG/nYmd36PdRyu19EGKmjAdVe5fILdEAMMee3WWwG3caZM+sBUNrkOJvzeGK5QkA4BBppd3XIBoAgEO1+xpEAwBwqHGqVkQDAHColEI0AACHazfVigYA4FCDFK+LBgCgiGgAAA5V1/FANAAARUQDAHCoFPmOaAAADpXq/FA0AACHWn3tlhesAphzo5zzg6AzUkpvNIeVmCHN/0NftUfRADDHxuN87a1TNzeDzvjm0YWNwSBdjxlSR9xpj5YnAOAYLS+f+CJmTR2b7UE0AMAxejNtPmwOWzE7Rs20yqQBAKYjXYuZkZ//rqIBAI7Z6tJnW81hFN03ijixdfBBLzZCvv/g6xQA0CntX/Ad3xBZ509XlzdHBx+aNADAFKwu7V3VshXdNdo9eeKTn35CNADAlAzG+cPorHzt7f1Nm8+JBgCYkj+funknp+hiOGw+m4T8jGgAgCk6s3ijXQLYiu4Y7S4u/GrIiAYAmLLFxYX/iG5cTTGKWDj34rLEAdEAAFO2f8OnhXMx3XAYtb/D6tL/Xy3xItEAAB2wf7KeWjiMDguGlmgAgI5oT9rNUsXbuY5P45jsv4Ll4cHQ8iqXANAhz16bYuPu7sU7KcflmOjLaKdrZ07euFr63SYNANBB+1dVLJybxNTh2XThzdWlz66+zONEAwB0VLtkcGb5xkZ7gm/jIeX08I/+rPaxdZ2/bN47d+bkzbWS5YgXWZ4AgI57doLfaN+/+/i99WZWsJ5SnI0Uf/m9x+UcDyLXW00wbO0sL3zxW5dSlhINADBDzix/9kVzaN9iO2+cXn7848p4UJ2Ocb3Sfi6n6uEw16PHyydGrxoJLxINADCjnkXBnTgm9jQAAEVEAwBQRDQAAEVEAwBQRDQAAEVEAwBQRDQAAEVEAwBQRDQAAEVEAwBQRDQAAEVEAwBQRDQAAEVEAwBQRDQAAEVEAwBQRDQAAEVEAwBQRDQAAEVEAwBQZBgAU7C6dCMFMFNMGgCAIqIBAChieQKAmbOd108vPD65HlU+O0jp9ZzS2ZTjdPuW097xYXPce4s6j+rID6ocW6nKd1aXbo2CP0Q0ADAT/vnD+bXhsHonIm3EbqzEoP3s/taYJhL25PT8eLo5nN77fBMUg/b7Ulxuv3Zv58KoOWw9fVp/+u+v3doKiokGADrrYKIwGKRLzYdrcSTSSvOfjeFwsNEGxHgc1waDessE4nD2NADQSXefXLyytLN8vwmG63FkwfCitLL/86vbTUB8FPwu0QBAp7TLEHd3L2ynFB8/W2Y4BmmlebvahMP9bx5d2Ah+leUJADqhXYpY+tfyRznHlcgxJe3kIa438fBORH3NksXPmTQAMHX3ds6v/OlfJ2/vBUMnpI12yaKZOpwNnhMNAEzVd82JOeXBdsqpYyfovf0O23efvNuRkJk+0QDA1Nz78eKlcXNiPr69Cy8vpepjmyT3iQYApqINhhjHZsyEvU2SvQ8H0QDAsWuXJGYnGA6kq31fqhANAByrdtNjXaXbMYP2lip+OL8WPSUaADg27WWV7VUJXd7DcJg8GHzehk/0kGgA4Ni092F4dhvnmZX2gmdwPXpINABwLNo7LXbnPgyvbK2P+xtSAMCEtcsSi7snt2d9yvBTTQA9TGn8dp/uGmnSAMDELf546vI8BUOrXabIufo4esSkAYCJ2t80OLgf8+rp+Nzqa7e2ogdMGgCYqFynqzHPhoPe3PTJpAGAiWmnDO3rSszyJZZFejJtMGkAYGLG42pt7oOhMR5U69EDogGAiRkO0+XogSrSpe28MfdxJBoAmIhvfrxwNufo2MtdT0Z7JcXio925f66iAYCJqJ6mteiTYXUp5pxoAGAimr++/xY9knOa+30NogGAI3d/f31/LXqkXaL4pn3J7zkmGgA4co92n/ZiL8OLqiqvxRwTDQAcuUHOvYyGlNJfYo6JBgCOXk+umnhRzsnyBAC8jFTFG9FDKeW5vleDaADgyOUcb0YvpZWYY6IBgCOXUj8nDa39V/WcT6IBACgiGgCAIqIBACgiGgCAIqIBgCOXcjwM5o5oAODI1RHfR0+tLt0axZwSDQAcuaqK/4keynM+YRENABy5ehz/Hb2U5/p5iwYAjl6KO9FDKaX7McdEAwBHrjl59jIacq5NGgDgZSwuDnsZDXWdtmKOiQYAjtybabPdELgVPdJugnzr1M25jiXRAMBE1JG+ih5JKb6IOScaAJiIqmeThmbWMPeRlAIAJuTb3Yvbzdj+bMy5dmnizMkb/xZzzqQBgIkZ5/Rl9EAfliZaogGAiTm5OPykH69DsXAtekA0ADAx7VUU45T+HnMs5/zV6tLmKHpANAAwUfM+bUjj+mr0hGgAYKLmfNqwufrara3oCdEAwMTN77ShH3sZDogGACaunTbUOX0Q86TO1/qyl+GA+zQAcGzuPr64maq4FLNvtLp0483oGZMGAI7N0smFK81hFLNt1CxLnIseEg0AHJv9F7JaODfL+xtyVX/Yt2WJA6IBgGPVnnBndn9Dna+d+dN/9uLuj79GNABw7M4sf9acePNshUO78XH55tXoMRshAZiaezsXNppT0fXoOsGwRzQAMFV3H7+3XqV8Pac4HR2Uc3x45uSNTwLRAMD03dvZWIn439vNuyvRHaPmNPnB6tJnW8EeexoAmLp2c+Ti4sLbuY5PowPaF6Fqr/IQDD9n0gBApzzb5/BRTGHqkHJ6WEe+Zjni14kGADrpOOOhjYWc4u+7i8NP3t67lwS/RjQA0GmTjAex8HJEAwAz4d7Oe2u5zhupinfiFQJibwkij79M1WDTnoWXIxoAmDnfPbpw9mmqVupUr1URZ1Ok083bGznl55dtPtuf8H3kfKdOMaoijYZ13vrzqZt3gj/k/wAz3zbM/4zKFwAAAABJRU5ErkJggg==)"
   ]
  },
  {
   "cell_type": "markdown",
   "metadata": {},
   "source": [
    "## Warm Up"
   ]
  },
  {
   "cell_type": "markdown",
   "metadata": {},
   "source": [
    "Firstly, if you haven't done so far, you need to install the Classiq SDK package: "
   ]
  },
  {
   "cell_type": "code",
   "execution_count": 1,
   "metadata": {},
   "outputs": [
    {
     "name": "stdout",
     "output_type": "stream",
     "text": [
      "^C\n"
     ]
    },
    {
     "name": "stdout",
     "output_type": "stream",
     "text": [
      "Collecting classiq\n",
      "  Downloading classiq-0.9.3-py3-none-any.whl (149 kB)\n",
      "     ---------------------------------------- 0.0/149.0 kB ? eta -:--:--\n",
      "     ------------------------ -------------- 92.2/149.0 kB 2.6 MB/s eta 0:00:01\n",
      "     -------------------------------------- 149.0/149.0 kB 3.0 MB/s eta 0:00:00\n",
      "Collecting ConfigArgParse<2.0.0,>=1.5.3 (from classiq)\n",
      "  Downloading ConfigArgParse-1.7-py3-none-any.whl.metadata (23 kB)\n",
      "Collecting Pyomo<6.1,>=6.0 (from classiq)\n",
      "  Downloading Pyomo-6.0.1.tar.gz (1.9 MB)\n",
      "     ---------------------------------------- 0.0/1.9 MB ? eta -:--:--\n",
      "     -------- ------------------------------- 0.4/1.9 MB 12.9 MB/s eta 0:00:01\n",
      "     ------------------- -------------------- 0.9/1.9 MB 11.6 MB/s eta 0:00:01\n",
      "     ---------------------- ----------------- 1.0/1.9 MB 11.0 MB/s eta 0:00:01\n",
      "     -------------------------------- ------- 1.5/1.9 MB 8.6 MB/s eta 0:00:01\n",
      "     ---------------------------------------- 1.9/1.9 MB 8.5 MB/s eta 0:00:00\n",
      "  Installing build dependencies: started\n",
      "  Installing build dependencies: finished with status 'done'\n",
      "  Getting requirements to build wheel: started\n",
      "  Getting requirements to build wheel: finished with status 'done'\n",
      "  Preparing metadata (pyproject.toml): started\n",
      "  Preparing metadata (pyproject.toml): finished with status 'done'\n",
      "Requirement already satisfied: httpx<1,>=0.22.0 in c:\\users\\priya\\appdata\\local\\programs\\python\\python312\\lib\\site-packages (from classiq) (0.25.1)\n",
      "Collecting keyring<24.0.0,>=23.5.0 (from classiq)\n",
      "  Downloading keyring-23.13.1-py3-none-any.whl (37 kB)\n",
      "Requirement already satisfied: matplotlib<4.0.0,>=3.4.3 in c:\\users\\priya\\appdata\\local\\programs\\python\\python312\\lib\\site-packages (from classiq) (3.8.2)\n",
      "Collecting more-itertools<9.0.0,>=8.8.0 (from classiq)\n",
      "  Downloading more_itertools-8.14.0-py3-none-any.whl (52 kB)\n",
      "     ---------------------------------------- 0.0/52.2 kB ? eta -:--:--\n",
      "     ---------------------------------------- 52.2/52.2 kB ? eta 0:00:00\n",
      "Requirement already satisfied: nest-asyncio<2.0.0,>=1.5.4 in c:\\users\\priya\\appdata\\roaming\\python\\python312\\site-packages (from classiq) (1.5.8)\n",
      "Collecting networkx<3.0.0,>=2.5.1 (from classiq)\n",
      "  Downloading networkx-2.8.8-py3-none-any.whl (2.0 MB)\n",
      "     ---------------------------------------- 0.0/2.0 MB ? eta -:--:--\n",
      "     --------- ------------------------------ 0.5/2.0 MB 10.2 MB/s eta 0:00:01\n",
      "     --------------------- ------------------ 1.1/2.0 MB 13.8 MB/s eta 0:00:01\n",
      "     --------------------------------- ------ 1.7/2.0 MB 12.0 MB/s eta 0:00:01\n",
      "     ---------------------------------------- 2.0/2.0 MB 11.7 MB/s eta 0:00:00\n",
      "Requirement already satisfied: numpy<2.0.0,>=1.20.1 in c:\\users\\priya\\appdata\\local\\programs\\python\\python312\\lib\\site-packages (from classiq) (1.26.2)\n",
      "Collecting pillow<10.0.0,>=9.0.0 (from classiq)\n",
      "  Downloading Pillow-9.5.0-cp312-cp312-win_amd64.whl (2.5 MB)\n",
      "     ---------------------------------------- 0.0/2.5 MB ? eta -:--:--\n",
      "     -------- ------------------------------- 0.5/2.5 MB 16.8 MB/s eta 0:00:01\n",
      "     ------------------ --------------------- 1.1/2.5 MB 14.6 MB/s eta 0:00:01\n",
      "     -------------------------- ------------- 1.7/2.5 MB 13.2 MB/s eta 0:00:01\n",
      "     ------------------------------------ --- 2.3/2.5 MB 13.3 MB/s eta 0:00:01\n",
      "     ---------------------------------------- 2.5/2.5 MB 12.3 MB/s eta 0:00:00\n",
      "Collecting pydantic<2.0.0,>=1.9.0 (from classiq)\n",
      "  Downloading pydantic-1.10.14-py3-none-any.whl.metadata (150 kB)\n",
      "     ---------------------------------------- 0.0/150.2 kB ? eta -:--:--\n",
      "     -------------------------------------- 150.2/150.2 kB 8.7 MB/s eta 0:00:00\n",
      "Collecting qiskit-terra<1,>=0.19.1 (from classiq)\n",
      "  Downloading qiskit_terra-0.46.0-cp38-abi3-win_amd64.whl.metadata (12 kB)\n",
      "Collecting semver<3.0.0,>=2.13.0 (from classiq)\n",
      "  Downloading semver-2.13.0-py2.py3-none-any.whl (12 kB)\n",
      "Collecting tabulate<1,>=0.8.9 (from classiq)\n",
      "  Downloading tabulate-0.9.0-py3-none-any.whl (35 kB)\n",
      "Collecting websockets<11.0,>=10.1 (from classiq)\n",
      "  Downloading websockets-10.4.tar.gz (84 kB)\n",
      "     ---------------------------------------- 0.0/84.9 kB ? eta -:--:--\n",
      "     ---------------------------------------- 84.9/84.9 kB 5.0 MB/s eta 0:00:00\n",
      "  Installing build dependencies: started\n",
      "  Installing build dependencies: finished with status 'done'\n",
      "  Getting requirements to build wheel: started\n",
      "  Getting requirements to build wheel: finished with status 'done'\n",
      "  Preparing metadata (pyproject.toml): started\n",
      "  Preparing metadata (pyproject.toml): finished with status 'done'\n",
      "Requirement already satisfied: anyio in c:\\users\\priya\\appdata\\local\\programs\\python\\python312\\lib\\site-packages (from httpx<1,>=0.22.0->classiq) (3.7.1)\n",
      "Requirement already satisfied: certifi in c:\\users\\priya\\appdata\\local\\programs\\python\\python312\\lib\\site-packages (from httpx<1,>=0.22.0->classiq) (2023.7.22)\n",
      "Requirement already satisfied: httpcore in c:\\users\\priya\\appdata\\local\\programs\\python\\python312\\lib\\site-packages (from httpx<1,>=0.22.0->classiq) (1.0.2)\n",
      "Requirement already satisfied: idna in c:\\users\\priya\\appdata\\local\\programs\\python\\python312\\lib\\site-packages (from httpx<1,>=0.22.0->classiq) (3.4)\n",
      "Requirement already satisfied: sniffio in c:\\users\\priya\\appdata\\local\\programs\\python\\python312\\lib\\site-packages (from httpx<1,>=0.22.0->classiq) (1.3.0)\n",
      "Collecting jaraco.classes (from keyring<24.0.0,>=23.5.0->classiq)\n",
      "  Downloading jaraco.classes-3.3.0-py3-none-any.whl.metadata (2.9 kB)\n",
      "Collecting pywin32-ctypes>=0.2.0 (from keyring<24.0.0,>=23.5.0->classiq)\n",
      "  Downloading pywin32_ctypes-0.2.2-py3-none-any.whl.metadata (3.8 kB)\n",
      "Requirement already satisfied: contourpy>=1.0.1 in c:\\users\\priya\\appdata\\local\\programs\\python\\python312\\lib\\site-packages (from matplotlib<4.0.0,>=3.4.3->classiq) (1.2.0)\n",
      "Requirement already satisfied: cycler>=0.10 in c:\\users\\priya\\appdata\\local\\programs\\python\\python312\\lib\\site-packages (from matplotlib<4.0.0,>=3.4.3->classiq) (0.12.1)\n",
      "Requirement already satisfied: fonttools>=4.22.0 in c:\\users\\priya\\appdata\\local\\programs\\python\\python312\\lib\\site-packages (from matplotlib<4.0.0,>=3.4.3->classiq) (4.47.0)\n",
      "Requirement already satisfied: kiwisolver>=1.3.1 in c:\\users\\priya\\appdata\\local\\programs\\python\\python312\\lib\\site-packages (from matplotlib<4.0.0,>=3.4.3->classiq) (1.4.5)\n",
      "Requirement already satisfied: packaging>=20.0 in c:\\users\\priya\\appdata\\roaming\\python\\python312\\site-packages (from matplotlib<4.0.0,>=3.4.3->classiq) (23.2)\n",
      "Requirement already satisfied: pyparsing>=2.3.1 in c:\\users\\priya\\appdata\\local\\programs\\python\\python312\\lib\\site-packages (from matplotlib<4.0.0,>=3.4.3->classiq) (3.1.1)\n",
      "Requirement already satisfied: python-dateutil>=2.7 in c:\\users\\priya\\appdata\\roaming\\python\\python312\\site-packages (from matplotlib<4.0.0,>=3.4.3->classiq) (2.8.2)\n",
      "Requirement already satisfied: typing-extensions>=4.2.0 in c:\\users\\priya\\appdata\\local\\programs\\python\\python312\\lib\\site-packages (from pydantic<2.0.0,>=1.9.0->classiq) (4.8.0)\n",
      "Collecting ply (from Pyomo<6.1,>=6.0->classiq)\n",
      "  Downloading ply-3.11-py2.py3-none-any.whl (49 kB)\n",
      "     ---------------------------------------- 0.0/49.6 kB ? eta -:--:--\n",
      "     ---------------------------------------- 49.6/49.6 kB ? eta 0:00:00\n",
      "Collecting rustworkx>=0.13.0 (from qiskit-terra<1,>=0.19.1->classiq)\n",
      "  Downloading rustworkx-0.14.0-cp312-cp312-win_amd64.whl.metadata (10 kB)\n",
      "Requirement already satisfied: psutil>=5 in c:\\users\\priya\\appdata\\roaming\\python\\python312\\site-packages (from qiskit-terra<1,>=0.19.1->classiq) (5.9.6)\n",
      "Collecting scipy>=1.5 (from qiskit-terra<1,>=0.19.1->classiq)\n",
      "  Downloading scipy-1.12.0-cp312-cp312-win_amd64.whl.metadata (60 kB)\n",
      "     ---------------------------------------- 0.0/60.4 kB ? eta -:--:--\n",
      "     ---------------------------------------- 60.4/60.4 kB ? eta 0:00:00\n",
      "Collecting sympy>=1.3 (from qiskit-terra<1,>=0.19.1->classiq)\n",
      "  Using cached sympy-1.12-py3-none-any.whl (5.7 MB)\n",
      "Collecting dill>=0.3 (from qiskit-terra<1,>=0.19.1->classiq)\n",
      "  Downloading dill-0.3.8-py3-none-any.whl.metadata (10 kB)\n",
      "Collecting stevedore>=3.0.0 (from qiskit-terra<1,>=0.19.1->classiq)\n",
      "  Downloading stevedore-5.1.0-py3-none-any.whl.metadata (2.2 kB)\n",
      "Requirement already satisfied: six>=1.5 in c:\\users\\priya\\appdata\\roaming\\python\\python312\\site-packages (from python-dateutil>=2.7->matplotlib<4.0.0,>=3.4.3->classiq) (1.16.0)\n",
      "Collecting pbr!=2.1.0,>=2.0.0 (from stevedore>=3.0.0->qiskit-terra<1,>=0.19.1->classiq)\n",
      "  Downloading pbr-6.0.0-py2.py3-none-any.whl.metadata (1.3 kB)\n",
      "Collecting mpmath>=0.19 (from sympy>=1.3->qiskit-terra<1,>=0.19.1->classiq)\n",
      "  Using cached mpmath-1.3.0-py3-none-any.whl (536 kB)\n",
      "Requirement already satisfied: h11<0.15,>=0.13 in c:\\users\\priya\\appdata\\local\\programs\\python\\python312\\lib\\site-packages (from httpcore->httpx<1,>=0.22.0->classiq) (0.14.0)\n",
      "Downloading ConfigArgParse-1.7-py3-none-any.whl (25 kB)\n",
      "Downloading pydantic-1.10.14-py3-none-any.whl (158 kB)\n",
      "   ---------------------------------------- 0.0/158.9 kB ? eta -:--:--\n",
      "   ---------------------------------------- 158.9/158.9 kB 9.3 MB/s eta 0:00:00\n",
      "Downloading qiskit_terra-0.46.0-cp38-abi3-win_amd64.whl (5.2 MB)\n",
      "   ---------------------------------------- 0.0/5.2 MB ? eta -:--:--\n",
      "   ----- ---------------------------------- 0.7/5.2 MB 13.9 MB/s eta 0:00:01\n",
      "   --------- ------------------------------ 1.2/5.2 MB 12.6 MB/s eta 0:00:01\n",
      "   ------------- -------------------------- 1.8/5.2 MB 12.7 MB/s eta 0:00:01\n",
      "   ------------------ --------------------- 2.4/5.2 MB 12.6 MB/s eta 0:00:01\n",
      "   ---------------------- ----------------- 3.0/5.2 MB 12.6 MB/s eta 0:00:01\n",
      "   --------------------------- ------------ 3.6/5.2 MB 12.6 MB/s eta 0:00:01\n",
      "   -------------------------------- ------- 4.2/5.2 MB 12.7 MB/s eta 0:00:01\n",
      "   ------------------------------------ --- 4.8/5.2 MB 12.2 MB/s eta 0:00:01\n",
      "   ---------------------------------------  5.2/5.2 MB 12.3 MB/s eta 0:00:01\n",
      "   ---------------------------------------- 5.2/5.2 MB 11.9 MB/s eta 0:00:00\n",
      "Downloading dill-0.3.8-py3-none-any.whl (116 kB)\n",
      "   ---------------------------------------- 0.0/116.3 kB ? eta -:--:--\n",
      "   ---------------------------------------- 116.3/116.3 kB 7.1 MB/s eta 0:00:00\n",
      "Downloading pywin32_ctypes-0.2.2-py3-none-any.whl (30 kB)\n",
      "Downloading rustworkx-0.14.0-cp312-cp312-win_amd64.whl (1.6 MB)\n",
      "   ---------------------------------------- 0.0/1.6 MB ? eta -:--:--\n",
      "   -------------- ------------------------- 0.6/1.6 MB 9.1 MB/s eta 0:00:01\n",
      "   ------------------------------ --------- 1.2/1.6 MB 10.7 MB/s eta 0:00:01\n",
      "   ---------------------------------------- 1.6/1.6 MB 11.1 MB/s eta 0:00:00\n",
      "Downloading scipy-1.12.0-cp312-cp312-win_amd64.whl (45.8 MB)\n",
      "   ---------------------------------------- 0.0/45.8 MB ? eta -:--:--\n",
      "   ---------------------------------------- 0.5/45.8 MB 14.2 MB/s eta 0:00:04\n",
      "    --------------------------------------- 1.1/45.8 MB 13.4 MB/s eta 0:00:04\n",
      "   - -------------------------------------- 1.7/45.8 MB 13.2 MB/s eta 0:00:04\n",
      "   - -------------------------------------- 2.2/45.8 MB 12.7 MB/s eta 0:00:04\n",
      "   -- ------------------------------------- 2.8/45.8 MB 12.9 MB/s eta 0:00:04\n",
      "   -- ------------------------------------- 3.4/45.8 MB 12.6 MB/s eta 0:00:04\n",
      "   --- ------------------------------------ 4.0/45.8 MB 12.6 MB/s eta 0:00:04\n",
      "   --- ------------------------------------ 4.5/45.8 MB 12.1 MB/s eta 0:00:04\n",
      "   ---- ----------------------------------- 5.1/45.8 MB 12.6 MB/s eta 0:00:04\n",
      "   ----- ---------------------------------- 5.7/45.8 MB 12.2 MB/s eta 0:00:04\n",
      "   ----- ---------------------------------- 6.3/45.8 MB 12.6 MB/s eta 0:00:04\n",
      "   ------ --------------------------------- 6.9/45.8 MB 12.6 MB/s eta 0:00:04\n",
      "   ------ --------------------------------- 7.5/45.8 MB 12.6 MB/s eta 0:00:04\n",
      "   ------- -------------------------------- 8.1/45.8 MB 12.7 MB/s eta 0:00:03\n",
      "   ------- -------------------------------- 8.5/45.8 MB 12.3 MB/s eta 0:00:04\n",
      "   ------- -------------------------------- 8.7/45.8 MB 11.8 MB/s eta 0:00:04\n",
      "   ------- -------------------------------- 8.8/45.8 MB 11.2 MB/s eta 0:00:04\n",
      "   ------- -------------------------------- 8.8/45.8 MB 10.7 MB/s eta 0:00:04\n",
      "   ------- -------------------------------- 9.0/45.8 MB 10.3 MB/s eta 0:00:04\n",
      "   -------- ------------------------------- 9.3/45.8 MB 10.1 MB/s eta 0:00:04\n",
      "   -------- ------------------------------- 9.5/45.8 MB 9.8 MB/s eta 0:00:04\n",
      "   -------- ------------------------------- 10.2/45.8 MB 10.0 MB/s eta 0:00:04\n",
      "   --------- ------------------------------ 10.8/45.8 MB 10.1 MB/s eta 0:00:04\n",
      "   --------- ------------------------------ 11.4/45.8 MB 9.9 MB/s eta 0:00:04\n",
      "   ---------- ----------------------------- 12.0/45.8 MB 10.1 MB/s eta 0:00:04\n",
      "   ---------- ----------------------------- 12.6/45.8 MB 10.1 MB/s eta 0:00:04\n",
      "   ----------- ---------------------------- 13.2/45.8 MB 10.1 MB/s eta 0:00:04\n",
      "   ------------ --------------------------- 13.8/45.8 MB 10.1 MB/s eta 0:00:04\n",
      "   ------------ --------------------------- 14.4/45.8 MB 10.2 MB/s eta 0:00:04\n",
      "   ------------- -------------------------- 15.0/45.8 MB 10.2 MB/s eta 0:00:04\n",
      "   ------------- -------------------------- 15.6/45.8 MB 10.2 MB/s eta 0:00:03\n",
      "   -------------- ------------------------- 16.2/45.8 MB 10.2 MB/s eta 0:00:03\n",
      "   -------------- ------------------------- 16.8/45.8 MB 10.2 MB/s eta 0:00:03\n",
      "   --------------- ------------------------ 17.4/45.8 MB 10.2 MB/s eta 0:00:03\n",
      "   --------------- ------------------------ 18.0/45.8 MB 10.2 MB/s eta 0:00:03\n",
      "   ---------------- ----------------------- 18.6/45.8 MB 10.2 MB/s eta 0:00:03\n",
      "   ---------------- ----------------------- 19.2/45.8 MB 11.9 MB/s eta 0:00:03\n",
      "   ----------------- ---------------------- 19.8/45.8 MB 13.1 MB/s eta 0:00:02\n",
      "   ----------------- ---------------------- 20.4/45.8 MB 13.1 MB/s eta 0:00:02\n",
      "   ------------------ --------------------- 21.1/45.8 MB 13.1 MB/s eta 0:00:02\n",
      "   ------------------ --------------------- 21.7/45.8 MB 13.1 MB/s eta 0:00:02\n",
      "   ------------------- -------------------- 22.4/45.8 MB 13.1 MB/s eta 0:00:02\n",
      "   -------------------- ------------------- 23.0/45.8 MB 13.1 MB/s eta 0:00:02\n",
      "   -------------------- ------------------- 23.7/45.8 MB 13.4 MB/s eta 0:00:02\n",
      "   --------------------- ------------------ 24.4/45.8 MB 13.4 MB/s eta 0:00:02\n",
      "   --------------------- ------------------ 25.0/45.8 MB 13.4 MB/s eta 0:00:02\n",
      "   ---------------------- ----------------- 25.7/45.8 MB 13.6 MB/s eta 0:00:02\n",
      "   ---------------------- ----------------- 26.3/45.8 MB 13.6 MB/s eta 0:00:02\n",
      "   ----------------------- ---------------- 27.0/45.8 MB 13.6 MB/s eta 0:00:02\n",
      "   ------------------------ --------------- 27.7/45.8 MB 13.9 MB/s eta 0:00:02\n",
      "   ------------------------ --------------- 28.3/45.8 MB 13.9 MB/s eta 0:00:02\n",
      "   ------------------------- -------------- 29.0/45.8 MB 13.9 MB/s eta 0:00:02\n",
      "   ------------------------- -------------- 29.5/45.8 MB 13.9 MB/s eta 0:00:02\n",
      "   -------------------------- ------------- 30.1/45.8 MB 13.9 MB/s eta 0:00:02\n",
      "   -------------------------- ------------- 30.7/45.8 MB 13.9 MB/s eta 0:00:02\n",
      "   --------------------------- ------------ 31.3/45.8 MB 13.6 MB/s eta 0:00:02\n",
      "   --------------------------- ------------ 31.9/45.8 MB 13.6 MB/s eta 0:00:02\n",
      "   ---------------------------- ----------- 32.5/45.8 MB 13.6 MB/s eta 0:00:01\n",
      "   ---------------------------- ----------- 33.1/45.8 MB 13.6 MB/s eta 0:00:01\n",
      "   ----------------------------- ---------- 33.8/45.8 MB 13.6 MB/s eta 0:00:01\n",
      "   ------------------------------ --------- 34.4/45.8 MB 13.6 MB/s eta 0:00:01\n",
      "   ------------------------------ --------- 35.1/45.8 MB 13.4 MB/s eta 0:00:01\n",
      "   ------------------------------- -------- 35.7/45.8 MB 13.4 MB/s eta 0:00:01\n",
      "   ------------------------------- -------- 36.3/45.8 MB 13.4 MB/s eta 0:00:01\n",
      "   -------------------------------- ------- 36.9/45.8 MB 13.4 MB/s eta 0:00:01\n",
      "   -------------------------------- ------- 37.5/45.8 MB 13.4 MB/s eta 0:00:01\n",
      "   --------------------------------- ------ 38.2/45.8 MB 13.4 MB/s eta 0:00:01\n",
      "   --------------------------------- ------ 38.8/45.8 MB 13.1 MB/s eta 0:00:01\n",
      "   ---------------------------------- ----- 39.4/45.8 MB 13.4 MB/s eta 0:00:01\n",
      "   ---------------------------------- ----- 40.0/45.8 MB 13.4 MB/s eta 0:00:01\n",
      "   ----------------------------------- ---- 40.7/45.8 MB 13.4 MB/s eta 0:00:01\n",
      "   ------------------------------------ --- 41.3/45.8 MB 13.4 MB/s eta 0:00:01\n",
      "   ------------------------------------ --- 42.0/45.8 MB 13.6 MB/s eta 0:00:01\n",
      "   ------------------------------------- -- 42.7/45.8 MB 13.6 MB/s eta 0:00:01\n",
      "   ------------------------------------- -- 43.3/45.8 MB 13.6 MB/s eta 0:00:01\n",
      "   -------------------------------------- - 44.1/45.8 MB 13.6 MB/s eta 0:00:01\n",
      "   ---------------------------------------  44.8/45.8 MB 13.9 MB/s eta 0:00:01\n",
      "   ---------------------------------------  45.4/45.8 MB 13.9 MB/s eta 0:00:01\n",
      "   ---------------------------------------  45.8/45.8 MB 13.6 MB/s eta 0:00:01\n",
      "   ---------------------------------------  45.8/45.8 MB 13.6 MB/s eta 0:00:01\n",
      "   ---------------------------------------  45.8/45.8 MB 13.6 MB/s eta 0:00:01\n",
      "   ---------------------------------------- 45.8/45.8 MB 11.9 MB/s eta 0:00:00\n",
      "Downloading stevedore-5.1.0-py3-none-any.whl (49 kB)\n",
      "   ---------------------------------------- 0.0/49.6 kB ? eta -:--:--\n",
      "   ---------------------------------------- 49.6/49.6 kB ? eta 0:00:00\n",
      "Downloading jaraco.classes-3.3.0-py3-none-any.whl (5.9 kB)\n",
      "Downloading pbr-6.0.0-py2.py3-none-any.whl (107 kB)\n",
      "   ---------------------------------------- 0.0/107.5 kB ? eta -:--:--\n",
      "   ---------------------- ----------------- 61.4/107.5 kB ? eta -:--:--\n",
      "   ---------------------------------------- 107.5/107.5 kB 2.1 MB/s eta 0:00:00\n",
      "Building wheels for collected packages: Pyomo, websockets\n",
      "  Building wheel for Pyomo (pyproject.toml): started\n",
      "  Building wheel for Pyomo (pyproject.toml): finished with status 'done'\n",
      "  Created wheel for Pyomo: filename=Pyomo-6.0.1-py2.py3-none-any.whl size=2470829 sha256=cf6fd2f5ff50788791b655a637eee6870519337192b6cd4c4d9289b60684ab9d\n",
      "  Stored in directory: c:\\users\\priya\\appdata\\local\\pip\\cache\\wheels\\45\\70\\69\\e880326bf8bbbe33ffbc7001a141889f14afa8f01a3d53bd50\n",
      "  Building wheel for websockets (pyproject.toml): started\n",
      "  Building wheel for websockets (pyproject.toml): finished with status 'done'\n",
      "  Created wheel for websockets: filename=websockets-10.4-cp312-cp312-win_amd64.whl size=100742 sha256=9a26a3c3b8b7b6eb85c653f4c8bdc7526bd0ef78259de12f0e95b56456f06e02\n",
      "  Stored in directory: c:\\users\\priya\\appdata\\local\\pip\\cache\\wheels\\80\\cf\\6d\\5d7e4c920cb41925a178b2d2621889c520d648bab487b1d7fd\n",
      "Successfully built Pyomo websockets\n",
      "Installing collected packages: ply, mpmath, websockets, tabulate, sympy, semver, scipy, rustworkx, pywin32-ctypes, Pyomo, pydantic, pillow, pbr, networkx, more-itertools, dill, ConfigArgParse, stevedore, jaraco.classes, qiskit-terra, keyring, classiq\n",
      "  Attempting uninstall: pydantic\n",
      "    Found existing installation: pydantic 2.5.1\n",
      "    Uninstalling pydantic-2.5.1:\n",
      "      Successfully uninstalled pydantic-2.5.1\n",
      "  Attempting uninstall: pillow\n",
      "    Found existing installation: Pillow 10.1.0\n",
      "    Uninstalling Pillow-10.1.0:\n",
      "      Successfully uninstalled Pillow-10.1.0\n",
      "Successfully installed ConfigArgParse-1.7 Pyomo-6.0.1 classiq-0.9.3 dill-0.3.8 jaraco.classes-3.3.0 keyring-23.13.1 more-itertools-8.14.0 mpmath-1.3.0 networkx-2.8.8 pbr-6.0.0 pillow-9.5.0 ply-3.11 pydantic-1.10.14 pywin32-ctypes-0.2.2 qiskit-terra-0.46.0 rustworkx-0.14.0 scipy-1.12.0 semver-2.13.0 stevedore-5.1.0 sympy-1.12 tabulate-0.9.0 websockets-10.4\n"
     ]
    },
    {
     "name": "stderr",
     "output_type": "stream",
     "text": [
      "\n",
      "[notice] A new release of pip is available: 23.3.2 -> 24.0\n",
      "[notice] To update, run: python.exe -m pip install --upgrade pip\n"
     ]
    }
   ],
   "source": [
    "!pip install -U classiq"
   ]
  },
  {
   "cell_type": "markdown",
   "metadata": {},
   "source": [
    "and to authenticate your device against the Classiq backend:"
   ]
  },
  {
   "cell_type": "code",
   "execution_count": null,
   "metadata": {},
   "outputs": [],
   "source": [
    "import classiq\n",
    "classiq.authenticate()"
   ]
  },
  {
   "cell_type": "markdown",
   "metadata": {},
   "source": [
    "Let's create a uniform superposition of numbers in the domain $[0,1)$ with equal spacing of $\\frac{1}{2^K}$ for $K=5$:"
   ]
  },
  {
   "cell_type": "code",
   "execution_count": null,
   "metadata": {},
   "outputs": [],
   "source": [
    "from classiq import *\n",
    "K =5\n",
    "\n",
    "@QFunc\n",
    "def main(x:Output[QNum]):\n",
    "    allocate_num(num_qubits=K, is_signed=False, fraction_digits=K,out=x)\n",
    "    hadamard_transform(x)\n",
    "\n",
    "quantum_model = create_model(main)\n",
    "quantum_program = synthesize(quantum_model)\n",
    "\n",
    "show(quantum_program) # view the circuit in the IDE\n",
    "\n",
    "job = execute(quantum_program)\n",
    "job.open_in_ide() # view the resulted histogram in the IDE"
   ]
  },
  {
   "cell_type": "markdown",
   "metadata": {},
   "source": [
    "That's cool right? :)\n",
    "\n",
    "If you are more a Python person, this is how you can post-process your results:"
   ]
  },
  {
   "cell_type": "code",
   "execution_count": null,
   "metadata": {},
   "outputs": [],
   "source": [
    "parsed_counts = results.result()[0].value.parsed_counts\n",
    "sorted_counts = sorted(parsed_counts, key=lambda x: x.state[\"x\"])\n",
    "for state_counts in sorted_counts: print('State: ', state_counts.state, '| Shots: ', state_counts.shots)"
   ]
  },
  {
   "cell_type": "markdown",
   "metadata": {},
   "source": [
    "## The Challenge Itself"
   ]
  },
  {
   "cell_type": "markdown",
   "metadata": {},
   "source": [
    "### Imports"
   ]
  },
  {
   "cell_type": "code",
   "execution_count": 12,
   "metadata": {},
   "outputs": [],
   "source": [
    "# All the imports needed\n",
    "from classiq import *\n",
    "\n",
    "from classiq.interface.backend.backend_preferences import ClassiqBackendPreferences\n",
    "from classiq.interface.executor.execution_preferences import ExecutionPreferences\n",
    "from classiq.interface.model.model import Model as Model_Designer\n",
    "\n",
    "import numpy as np\n",
    "import json"
   ]
  },
  {
   "cell_type": "markdown",
   "metadata": {},
   "source": [
    "### The Heart of the Code - Build Your Algorithm Here"
   ]
  },
  {
   "cell_type": "code",
   "execution_count": null,
   "metadata": {},
   "outputs": [],
   "source": [
    "# The functions you need go here"
   ]
  },
  {
   "cell_type": "code",
   "execution_count": null,
   "metadata": {},
   "outputs": [],
   "source": [
    "# The heart of the code - the function that calculates the hyperbolic tangent\n",
    "@QFunc\n",
    "def compute_tanh(precision: QParam[int],    # The precision of x and tanh_x - how many fraction digits will represent your solution\n",
    "                 x: QNum,                   # A quantum variable that is represents numbers\n",
    "                 tanh_x: Output[QNum]       # The output of the function, which means it needs to be initialized within the scope of the function\n",
    "                 ):\n",
    "    \n",
    "    pass #TODO delete pass and write your code here"
   ]
  },
  {
   "cell_type": "code",
   "execution_count": 1,
   "metadata": {},
   "outputs": [],
   "source": [
    "# Your precision value\n",
    "precision = 4"
   ]
  },
  {
   "cell_type": "code",
   "execution_count": null,
   "metadata": {},
   "outputs": [],
   "source": [
    "# Do not change this part of the code !\n",
    "\n",
    "@QFunc\n",
    "def main(x: Output[QNum],y: Output[QNum]):\n",
    "\n",
    "    # A quantum variable which represents numbers is initialized\n",
    "    allocate_num(num_qubits=precision,      \n",
    "                is_signed=False,            \n",
    "                fraction_digits=precision,\n",
    "                out=x)\n",
    "    \n",
    "    # Initalizing over all possible values of the quantum number with the hadamard transform\n",
    "    hadamard_transform(x)\n",
    "\n",
    "    # Computing your compute_tanh function\n",
    "    compute_tanh(precision,x,y)\n",
    "\n",
    "# Generating the model itslef\n",
    "qmod = create_model(main)"
   ]
  },
  {
   "cell_type": "markdown",
   "metadata": {},
   "source": [
    "### Saving the Files - What You Need To Submit"
   ]
  },
  {
   "cell_type": "markdown",
   "metadata": {},
   "source": [
    "First, define the precisions of your solutions:"
   ]
  },
  {
   "cell_type": "code",
   "execution_count": null,
   "metadata": {},
   "outputs": [],
   "source": [
    "#Precision values stages 1&2 - You need to enter these values in Google Form submission\n",
    "precision_value_stage_1 = 4 \n",
    "precision_value_stage_2 = 7"
   ]
  },
  {
   "cell_type": "markdown",
   "metadata": {},
   "source": [
    "Then we can create adapted quantum models for the two stages according to the corresponding precisions and constraints:"
   ]
  },
  {
   "cell_type": "code",
   "execution_count": null,
   "metadata": {},
   "outputs": [],
   "source": [
    "def get_model_with_new_precision(qmod, new_precision):\n",
    "    '''\n",
    "    The function adapts the precision value in the qmod according to the new precision value given.\n",
    "    '''\n",
    "    \n",
    "    @QFunc\n",
    "    def compute_tanh(\n",
    "        precision: QParam[int],\n",
    "        x: QNum,\n",
    "        tanh_x: Output[QNum],\n",
    "    ):\n",
    "        # dummy implementation\n",
    "        allocate_num(precision, False, precision, tanh_x)\n",
    "\n",
    "    @QFunc\n",
    "    def main(x: Output[QNum], y: Output[QNum]):\n",
    "        allocate_num(new_precision, False, new_precision, x)\n",
    "        hadamard_transform(x)\n",
    "        compute_tanh(new_precision, x, y)\n",
    "\n",
    "    new_main = main.create_model().main_func\n",
    "    parsed_qmod = Model_Designer.parse_obj(json.loads(qmod))\n",
    "    new_model = Model_Designer(functions=[f for f in parsed_qmod.functions if f.name != \"main\"] + [new_main])\n",
    "    return new_model.get_model()\n",
    "\n",
    "\n",
    "# Adapting the qmod for the relevant constraints - stage 1\n",
    "max_width_stage_1 = 30\n",
    "max_depth_stage_1 = 3000\n",
    "synthesis_timeout_sec_stage_1 = 90\n",
    "qmod_stage_1 = get_model_with_new_precision(qmod,precision_value_stage_1)\n",
    "qmod_stage_1 = set_constraints(qmod_stage_1,Constraints(max_width=max_width_stage_1,max_depth=max_depth_stage_1))\n",
    "qmod_stage_1 = set_preferences(qmod_stage_1, Preferences(timeout_seconds=synthesis_timeout_sec_stage_1))\n",
    "\n",
    "# Adapting the qmod for the relevant constraints - stage 2\n",
    "max_width_stage_2 = 100\n",
    "max_depth_stage_2 = 30000\n",
    "synthesis_timeout_sec_stage_2 = 180\n",
    "optimization_param = \"depth\"\n",
    "qmod_stage_2 = get_model_with_new_precision(qmod,precision_value_stage_2)\n",
    "qmod_stage_2 = set_constraints(qmod_stage_2,Constraints(max_width=max_width_stage_2,max_depth=max_depth_stage_2,optimization_parameter=optimization_param))\n",
    "qmod_stage_2 = set_preferences(qmod_stage_2, Preferences(timeout_seconds=synthesis_timeout_sec_stage_2))\n"
   ]
  },
  {
   "cell_type": "markdown",
   "metadata": {},
   "source": [
    "Now in order to save the deliverables files, you should adapt the following file names including their locations (no need to include the file extensions, i.e. do not add `.qprog`/`.qmod` at the end):"
   ]
  },
  {
   "cell_type": "code",
   "execution_count": null,
   "metadata": {},
   "outputs": [],
   "source": [
    "# Files names (no extensions needed!)\n",
    "file_name_qmod = 'qmod_default' #TODO change to your file_name\n",
    "file_name_qprog_stage_1 = 'qprog_stage_1_default' #TODO change to your file_name\n",
    "file_name_qprog_stage_2 = 'qprog_stage_2_default' #TODO change to your file_name"
   ]
  },
  {
   "cell_type": "markdown",
   "metadata": {},
   "source": [
    "Run the following cell to save the relevant deliverables:\n",
    "1. Your model (`.qmod` file)\n",
    "2. Your quantum program for stage 1 with the corresponding precision (`.qprog` file)\n",
    "3. Your quantum program for stage 2 with the corresponding precision (`.qprog` file)"
   ]
  },
  {
   "cell_type": "code",
   "execution_count": null,
   "metadata": {},
   "outputs": [],
   "source": [
    "def save_new_file(program_to_save,file_name):\n",
    "    '''\n",
    "    A simple function that saves your code as a text file\n",
    "    '''\n",
    "    file = open(file_name,\"w\")\n",
    "    file.write(program_to_save)\n",
    "    file.close()\n",
    "\n",
    "\n",
    "# Saving the qmod\n",
    "save_new_file(qmod, file_name_qmod+'.qmod') # You need to submit this file\n",
    "\n",
    "# Save the qprof of stage 1\n",
    "qprog_stage_1 = synthesize(qmod_stage_1)\n",
    "save_new_file(qprog_stage_1, file_name_qprog_stage_1+'.qprog') # You need to submit this file\n",
    "\n",
    "# Save the qprog of stage 2\n",
    "qprog_stage_2 = synthesize(qmod_stage_2)\n",
    "save_new_file(qprog_stage_2, file_name_qprog_stage_2+'.qprog') # You need to submit this file"
   ]
  },
  {
   "cell_type": "markdown",
   "metadata": {},
   "source": [
    "It's worth checking out your quantum programs by viewing them:"
   ]
  },
  {
   "cell_type": "code",
   "execution_count": null,
   "metadata": {},
   "outputs": [],
   "source": [
    "show(qprog_stage_1)"
   ]
  },
  {
   "cell_type": "code",
   "execution_count": null,
   "metadata": {},
   "outputs": [],
   "source": [
    "show(qprog_stage_2)"
   ]
  },
  {
   "cell_type": "markdown",
   "metadata": {},
   "source": [
    "### Evaluate Your Results"
   ]
  },
  {
   "cell_type": "markdown",
   "metadata": {},
   "source": [
    "Evaluate the results of stage 1:\n",
    "\n",
    "**NOTE!** \n",
    "- With the `aer_simulator` you can simulate up to 25 qubits circuit\n",
    "- With the `nvidia_state_vector_simulator` you can simulate up to 30 qubits circuit, but you can use it up to 10 times, so make sure to use it wisely"
   ]
  },
  {
   "cell_type": "code",
   "execution_count": null,
   "metadata": {},
   "outputs": [],
   "source": [
    "\n",
    "def evaluate_score_stage_1(results, user_input_precision):\n",
    "\n",
    "    # The array of values the code is compared against \n",
    "    calculated_precision = 10\n",
    "    domain = np.arange(0, 1, 1/ 2**calculated_precision)\n",
    "    expected_y = np.tanh(domain)\n",
    "    \n",
    "    # Sort the results according to the values of x\n",
    "    parsed_counts = sorted(results[0].value.parsed_counts, key=lambda x: x.state[\"x\"])\n",
    "    for tuple in parsed_counts: print(tuple.state)\n",
    "\n",
    "    # Form the relevant dictionary with values of 'x' and 'y'\n",
    "    results_dict = {s.state['x']: s.state['y'] for s in parsed_counts}\n",
    "\n",
    "    # Verify all strings were sampled, also no superpositions\n",
    "    assert len(results_dict) == 2 ** user_input_precision \n",
    "\n",
    "    # Comparing to the users results\n",
    "    measured_y = []\n",
    "    for x_val in domain:\n",
    "        # The y value that is assesd at x_val is the y value of the first x the user has such that x<x_val\n",
    "        x_val_floored = int(x_val * (2**user_input_precision)) / (2**user_input_precision)\n",
    "        measured_y.append(results_dict[x_val_floored])\n",
    "\n",
    "    # The metric asseses what's the largest distancce between the expected value and the measured value, the smallest the better\n",
    "    max_distance = np.max(np.abs(expected_y - np.array(measured_y)))\n",
    "    return max_distance\n",
    "\n",
    "def print_depth_width(quantum_program):\n",
    "    generated_circuit = GeneratedCircuit.parse_obj(json.loads(quantum_program))\n",
    "    print(f\"Synthesized circuit width: {generated_circuit.data.width}, depth: {generated_circuit.transpiled_circuit.depth}\")\n",
    "\n",
    "# Execution parameters\n",
    "num_shots = 1000\n",
    "backend_name = \"aer_simulator\" # \"aer_simulator\", \"nvidia_state_vector_simulator\"\n",
    "\n",
    "qmod_stage_1 = set_execution_preferences(qmod_stage_1, \n",
    "                                        ExecutionPreferences(\n",
    "                                            num_shots=1000,  # The number of shots is a hyperparameter of the algorithm\n",
    "                                            backend_preferences=ClassiqBackendPreferences(\n",
    "                                                                    backend_name=backend_name))) #aer_simulator / nvidia_state_vector_simulator\n",
    "print('Synthesizing quantum program stage 1 with the execution preferences')\n",
    "qprog_stage_1 = synthesize(qmod_stage_1)\n",
    "print_depth_width(qprog_stage_1)\n",
    "print('Executing the quantum program')\n",
    "results = execute(qprog_stage_1).result()\n",
    "print(\"Results of stage 1 \\n Max distance = \", evaluate_score_stage_1(results, precision_value_stage_1))"
   ]
  },
  {
   "cell_type": "markdown",
   "metadata": {},
   "source": [
    "Evluate the results of stage 2:"
   ]
  },
  {
   "cell_type": "code",
   "execution_count": null,
   "metadata": {},
   "outputs": [],
   "source": [
    "generated_circuit = GeneratedCircuit.parse_obj(json.loads(qprog_stage_2))\n",
    "print(f'\\nResults of stage 2 \\nPrecision = {precision_value_stage_2}, Circuit depth = {generated_circuit.transpiled_circuit.depth}')"
   ]
  },
  {
   "cell_type": "markdown",
   "metadata": {},
   "source": [
    "## Cheat Sheet"
   ]
  },
  {
   "cell_type": "markdown",
   "metadata": {},
   "source": []
  }
 ],
 "metadata": {
  "kernelspec": {
   "display_name": "Python 3.9.7 ('classiq_0_36_1')",
   "language": "python",
   "name": "python3"
  },
  "language_info": {
   "codemirror_mode": {
    "name": "ipython",
    "version": 3
   },
   "file_extension": ".py",
   "mimetype": "text/x-python",
   "name": "python",
   "nbconvert_exporter": "python",
   "pygments_lexer": "ipython3",
   "version": "3.12.0"
  },
  "orig_nbformat": 4,
  "vscode": {
   "interpreter": {
    "hash": "39f2fb914d68d910e6a44db3a048977f45af665714e1ed570fe3896698105d3f"
   }
  }
 },
 "nbformat": 4,
 "nbformat_minor": 2
}
