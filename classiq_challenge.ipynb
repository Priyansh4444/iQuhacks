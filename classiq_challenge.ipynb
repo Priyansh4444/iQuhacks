{
 "cells": [
  {
   "cell_type": "markdown",
   "metadata": {},
   "source": [
    "# Classiq Challenge - Quantum Arithmetics"
   ]
  },
  {
   "cell_type": "markdown",
   "metadata": {},
   "source": [
    "Welcome to the Classiq challenge of the 2024 MIT IQuHack hackathon!\n",
    "This Jupyter notebook is the framework for the challenge and you should follow it in order to solve it using Classiq (alongside the guidelines of the challenge).\n",
    "\n",
    "The notebook has 3 parts:\n",
    "1. A warm up session, just to get up to speed with a small example of Classiq\n",
    "2. The challenge itself, including what you need to create, what's the format, and how you can check yourself\n",
    "3. A cheat sheet with relevant Classiq functions declarations\n",
    "\n",
    "Additional resources you should use are\n",
    "- The IDE of the classiq platform at [platform.classiq.io](platform.classiq.io)\n",
    "- The [community Slack of Classiq](https://short.classiq.io/join-slack) - Classiq's team will answer any question you have over there, including implementation questions\n",
    "- [Classiq's documentation](https://docs.classiq.io/latest/user-guide/platform/) with the dedicated [Python SDK explanations](https://docs.classiq.io/latest/user-guide/platform/qmod/python/functions/)\n",
    "\n",
    "Good luck!"
   ]
  },
  {
   "cell_type": "markdown",
   "metadata": {},
   "source": [
    "![MITClassiq](data:image/png;base64,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)"
   ]
  },
  {
   "cell_type": "markdown",
   "metadata": {},
   "source": [
    "## Warm Up"
   ]
  },
  {
   "cell_type": "markdown",
   "metadata": {},
   "source": [
    "Firstly, if you haven't done so far, you need to install the Classiq SDK package: "
   ]
  },
  {
   "cell_type": "code",
   "execution_count": 28,
   "metadata": {},
   "outputs": [
    {
     "name": "stdout",
     "output_type": "stream",
     "text": [
      "Name: classiq\n",
      "Version: 0.9.3\n",
      "Summary: Classiq's Python SDK for quantum computing\n",
      "Home-page: https://classiq.io\n",
      "Author: Classiq Technologies\n",
      "Author-email: support@classiq.io\n",
      "License: Proprietary\n",
      "Location: C:\\Users\\Priya\\AppData\\Local\\Programs\\Python\\Python312\\Lib\\site-packages\n",
      "Requires: ConfigArgParse, httpx, keyring, matplotlib, more-itertools, nest-asyncio, networkx, numpy, pillow, pydantic, Pyomo, qiskit-terra, semver, tabulate, websockets\n",
      "Required-by: \n",
      "Requirement already satisfied: classiq in c:\\users\\priya\\appdata\\local\\programs\\python\\python310\\lib\\site-packages (0.36.1)"
     ]
    },
    {
     "name": "stderr",
     "output_type": "stream",
     "text": [
      "\n",
      "[notice] A new release of pip available: 22.3.1 -> 24.0\n",
      "[notice] To update, run: python.exe -m pip install --upgrade pip\n"
     ]
    },
    {
     "name": "stdout",
     "output_type": "stream",
     "text": [
      "\n",
      "Requirement already satisfied: tabulate<1,>=0.8.9 in c:\\users\\priya\\appdata\\local\\programs\\python\\python310\\lib\\site-packages (from classiq) (0.9.0)\n",
      "Requirement already satisfied: ConfigArgParse<2.0.0,>=1.5.3 in c:\\users\\priya\\appdata\\local\\programs\\python\\python310\\lib\\site-packages (from classiq) (1.7)\n",
      "Requirement already satisfied: pandas<2.0.0,>=1.4.0 in c:\\users\\priya\\appdata\\local\\programs\\python\\python310\\lib\\site-packages (from classiq) (1.5.3)\n",
      "Requirement already satisfied: matplotlib<4.0.0,>=3.4.3 in c:\\users\\priya\\appdata\\local\\programs\\python\\python310\\lib\\site-packages (from classiq) (3.8.2)\n",
      "Requirement already satisfied: Pyomo<6.6,>=6.5 in c:\\users\\priya\\appdata\\local\\programs\\python\\python310\\lib\\site-packages (from classiq) (6.5.0)\n",
      "Requirement already satisfied: numpy<2.0.0,>=1.20.1 in c:\\users\\priya\\appdata\\local\\programs\\python\\python310\\lib\\site-packages (from classiq) (1.26.3)\n",
      "Requirement already satisfied: pydantic<2.0.0,>=1.9.1 in c:\\users\\priya\\appdata\\local\\programs\\python\\python310\\lib\\site-packages (from classiq) (1.10.14)\n",
      "Requirement already satisfied: sympy<1.11.0,>=1.9.0 in c:\\users\\priya\\appdata\\local\\programs\\python\\python310\\lib\\site-packages (from classiq) (1.10.1)\n",
      "Requirement already satisfied: keyring<24.0.0,>=23.5.0 in c:\\users\\priya\\appdata\\local\\programs\\python\\python310\\lib\\site-packages (from classiq) (23.13.1)\n",
      "Requirement already satisfied: plotly<6.0.0,>=5.7.0 in c:\\users\\priya\\appdata\\local\\programs\\python\\python310\\lib\\site-packages (from classiq) (5.18.0)\n",
      "Requirement already satisfied: networkx<3.0.0,>=2.5.1 in c:\\users\\priya\\appdata\\local\\programs\\python\\python310\\lib\\site-packages (from classiq) (2.8.8)\n",
      "Requirement already satisfied: httpx<1,>=0.23.0 in c:\\users\\priya\\appdata\\local\\programs\\python\\python310\\lib\\site-packages (from classiq) (0.26.0)\n",
      "Requirement already satisfied: numexpr<3.0.0,>=2.7.3 in c:\\users\\priya\\appdata\\local\\programs\\python\\python310\\lib\\site-packages (from classiq) (2.9.0)\n",
      "Requirement already satisfied: packaging<22.0,>=21.3 in c:\\users\\priya\\appdata\\local\\programs\\python\\python310\\lib\\site-packages (from classiq) (21.3)\n",
      "Requirement already satisfied: httpcore==1.* in c:\\users\\priya\\appdata\\local\\programs\\python\\python310\\lib\\site-packages (from httpx<1,>=0.23.0->classiq) (1.0.2)\n",
      "Requirement already satisfied: certifi in c:\\users\\priya\\appdata\\local\\programs\\python\\python310\\lib\\site-packages (from httpx<1,>=0.23.0->classiq) (2024.2.2)\n",
      "Requirement already satisfied: anyio in c:\\users\\priya\\appdata\\local\\programs\\python\\python310\\lib\\site-packages (from httpx<1,>=0.23.0->classiq) (4.2.0)\n",
      "Requirement already satisfied: idna in c:\\users\\priya\\appdata\\local\\programs\\python\\python310\\lib\\site-packages (from httpx<1,>=0.23.0->classiq) (3.6)\n",
      "Requirement already satisfied: sniffio in c:\\users\\priya\\appdata\\local\\programs\\python\\python310\\lib\\site-packages (from httpx<1,>=0.23.0->classiq) (1.3.0)\n",
      "Requirement already satisfied: h11<0.15,>=0.13 in c:\\users\\priya\\appdata\\local\\programs\\python\\python310\\lib\\site-packages (from httpcore==1.*->httpx<1,>=0.23.0->classiq) (0.14.0)\n",
      "Requirement already satisfied: pywin32-ctypes>=0.2.0 in c:\\users\\priya\\appdata\\local\\programs\\python\\python310\\lib\\site-packages (from keyring<24.0.0,>=23.5.0->classiq) (0.2.2)\n",
      "Requirement already satisfied: importlib-metadata>=4.11.4 in c:\\users\\priya\\appdata\\local\\programs\\python\\python310\\lib\\site-packages (from keyring<24.0.0,>=23.5.0->classiq) (7.0.1)\n",
      "Requirement already satisfied: jaraco.classes in c:\\users\\priya\\appdata\\local\\programs\\python\\python310\\lib\\site-packages (from keyring<24.0.0,>=23.5.0->classiq) (3.3.0)\n",
      "Requirement already satisfied: fonttools>=4.22.0 in c:\\users\\priya\\appdata\\local\\programs\\python\\python310\\lib\\site-packages (from matplotlib<4.0.0,>=3.4.3->classiq) (4.47.2)\n",
      "Requirement already satisfied: pyparsing>=2.3.1 in c:\\users\\priya\\appdata\\local\\programs\\python\\python310\\lib\\site-packages (from matplotlib<4.0.0,>=3.4.3->classiq) (3.1.1)\n",
      "Requirement already satisfied: python-dateutil>=2.7 in c:\\users\\priya\\appdata\\roaming\\python\\python310\\site-packages (from matplotlib<4.0.0,>=3.4.3->classiq) (2.8.2)\n",
      "Requirement already satisfied: contourpy>=1.0.1 in c:\\users\\priya\\appdata\\local\\programs\\python\\python310\\lib\\site-packages (from matplotlib<4.0.0,>=3.4.3->classiq) (1.2.0)\n",
      "Requirement already satisfied: cycler>=0.10 in c:\\users\\priya\\appdata\\local\\programs\\python\\python310\\lib\\site-packages (from matplotlib<4.0.0,>=3.4.3->classiq) (0.12.1)\n",
      "Requirement already satisfied: kiwisolver>=1.3.1 in c:\\users\\priya\\appdata\\local\\programs\\python\\python310\\lib\\site-packages (from matplotlib<4.0.0,>=3.4.3->classiq) (1.4.5)\n",
      "Requirement already satisfied: pillow>=8 in c:\\users\\priya\\appdata\\local\\programs\\python\\python310\\lib\\site-packages (from matplotlib<4.0.0,>=3.4.3->classiq) (10.2.0)\n",
      "Requirement already satisfied: pytz>=2020.1 in c:\\users\\priya\\appdata\\local\\programs\\python\\python310\\lib\\site-packages (from pandas<2.0.0,>=1.4.0->classiq) (2024.1)\n",
      "Requirement already satisfied: tenacity>=6.2.0 in c:\\users\\priya\\appdata\\local\\programs\\python\\python310\\lib\\site-packages (from plotly<6.0.0,>=5.7.0->classiq) (8.2.3)\n",
      "Requirement already satisfied: typing-extensions>=4.2.0 in c:\\users\\priya\\appdata\\local\\programs\\python\\python310\\lib\\site-packages (from pydantic<2.0.0,>=1.9.1->classiq) (4.9.0)\n",
      "Requirement already satisfied: ply in c:\\users\\priya\\appdata\\local\\programs\\python\\python310\\lib\\site-packages (from Pyomo<6.6,>=6.5->classiq) (3.11)\n",
      "Requirement already satisfied: mpmath>=0.19 in c:\\users\\priya\\appdata\\local\\programs\\python\\python310\\lib\\site-packages (from sympy<1.11.0,>=1.9.0->classiq) (1.3.0)\n",
      "Requirement already satisfied: zipp>=0.5 in c:\\users\\priya\\appdata\\local\\programs\\python\\python310\\lib\\site-packages (from importlib-metadata>=4.11.4->keyring<24.0.0,>=23.5.0->classiq) (3.17.0)\n",
      "Requirement already satisfied: six>=1.5 in c:\\users\\priya\\appdata\\roaming\\python\\python310\\site-packages (from python-dateutil>=2.7->matplotlib<4.0.0,>=3.4.3->classiq) (1.16.0)\n",
      "Requirement already satisfied: exceptiongroup>=1.0.2 in c:\\users\\priya\\appdata\\roaming\\python\\python310\\site-packages (from anyio->httpx<1,>=0.23.0->classiq) (1.2.0)\n",
      "Requirement already satisfied: more-itertools in c:\\users\\priya\\appdata\\local\\programs\\python\\python310\\lib\\site-packages (from jaraco.classes->keyring<24.0.0,>=23.5.0->classiq) (10.2.0)\n",
      "Name: classiq\n",
      "Version: 0.9.3\n",
      "Summary: Classiq's Python SDK for quantum computing\n",
      "Home-page: https://classiq.io\n",
      "Author: Classiq Technologies\n",
      "Author-email: support@classiq.io\n",
      "License: Proprietary\n",
      "Location: C:\\Users\\Priya\\AppData\\Local\\Programs\\Python\\Python312\\Lib\\site-packages\n",
      "Requires: ConfigArgParse, httpx, keyring, matplotlib, more-itertools, nest-asyncio, networkx, numpy, pillow, pydantic, Pyomo, qiskit-terra, semver, tabulate, websockets\n",
      "Required-by: \n",
      "Python 3.10.10\n"
     ]
    }
   ],
   "source": [
    "!pip show classiq\n",
    "!pip3.10 install -U classiq\n",
    "!pip show classiq\n",
    "!python --version"
   ]
  },
  {
   "cell_type": "markdown",
   "metadata": {},
   "source": [
    "and to authenticate your device against the Classiq backend:"
   ]
  },
  {
   "cell_type": "code",
   "execution_count": 29,
   "metadata": {},
   "outputs": [
    {
     "name": "stderr",
     "output_type": "stream",
     "text": [
      "c:\\Users\\Priya\\AppData\\Local\\Programs\\Python\\Python310\\lib\\site-packages\\classiq\\_internals\\authentication\\token_manager.py:74: UserWarning: Overwriting an existing refresh token should only be done if it is compromised. Make sure this operation is necessary, and if not, remove the call to device registration.\n",
      "  warnings.warn(\n"
     ]
    },
    {
     "name": "stdout",
     "output_type": "stream",
     "text": [
      "Your user code: XJPS-DWSJ\n",
      "If a browser doesn't automatically open, please visit the url: https://auth.classiq.io/activate?user_code=XJPS-DWSJ\n"
     ]
    }
   ],
   "source": [
    "import classiq\n",
    "classiq.authenticate(overwrite=True)"
   ]
  },
  {
   "cell_type": "markdown",
   "metadata": {},
   "source": [
    "Let's create a uniform superposition of numbers in the domain $[0,1)$ with equal spacing of $\\frac{1}{2^K}$ for $K=5$:"
   ]
  },
  {
   "cell_type": "code",
   "execution_count": 41,
   "metadata": {},
   "outputs": [
    {
     "name": "stdout",
     "output_type": "stream",
     "text": [
      "Opening: https://platform.classiq.io/circuit/1aefcd0a-8996-47a3-be6f-773c2f955a01?version=0.36.1\n",
      "Opening: https://platform.classiq.io/circuit/67ae95ee-8eab-4251-a58b-f3ad4bfff778?version=0.36.1\n"
     ]
    }
   ],
   "source": [
    "from classiq import *\n",
    "K =5\n",
    "\n",
    "@QFunc\n",
    "def main(x:Output[QNum]):\n",
    "    allocate_num(num_qubits=K, is_signed=False, fraction_digits=K,out=x)\n",
    "    hadamard_transform(x)\n",
    "\n",
    "quantum_model = create_model(main)\n",
    "quantum_program = synthesize(quantum_model)\n",
    "\n",
    "show(quantum_program) # view the circuit in the IDE\n",
    "\n",
    "job = execute(quantum_program)\n",
    "job.open_in_ide() # view the resulted histogram in the IDE\n",
    "K =5\n",
    "\n",
    "@QFunc\n",
    "def main(x:Output[QNum]):\n",
    "    allocate_num(num_qubits=K, is_signed=False, fraction_digits=K,out=x)\n",
    "    hadamard_transform(x)\n",
    "\n",
    "quantum_model = create_model(main)\n",
    "quantum_program = synthesize(quantum_model)\n",
    "\n",
    "show(quantum_program) # view the circuit in the IDE\n",
    "\n",
    "job = execute(quantum_program)\n",
    "results = job.result() # store the results in the variable 'result'\n"
   ]
  },
  {
   "cell_type": "markdown",
   "metadata": {},
   "source": [
    "That's cool right? :)\n",
    "\n",
    "If you are more a Python person, this is how you can post-process your results:"
   ]
  },
  {
   "cell_type": "code",
   "execution_count": 49,
   "metadata": {},
   "outputs": [
    {
     "name": "stdout",
     "output_type": "stream",
     "text": [
      "State:  {'x': 0.0} | Shots:  57\n",
      "State:  {'x': 0.03125} | Shots:  57\n",
      "State:  {'x': 0.0625} | Shots:  69\n",
      "State:  {'x': 0.09375} | Shots:  51\n",
      "State:  {'x': 0.125} | Shots:  78\n",
      "State:  {'x': 0.15625} | Shots:  65\n",
      "State:  {'x': 0.1875} | Shots:  59\n",
      "State:  {'x': 0.21875} | Shots:  55\n",
      "State:  {'x': 0.25} | Shots:  66\n",
      "State:  {'x': 0.28125} | Shots:  75\n",
      "State:  {'x': 0.3125} | Shots:  60\n",
      "State:  {'x': 0.34375} | Shots:  59\n",
      "State:  {'x': 0.375} | Shots:  65\n",
      "State:  {'x': 0.40625} | Shots:  70\n",
      "State:  {'x': 0.4375} | Shots:  52\n",
      "State:  {'x': 0.46875} | Shots:  80\n",
      "State:  {'x': 0.5} | Shots:  59\n",
      "State:  {'x': 0.53125} | Shots:  55\n",
      "State:  {'x': 0.5625} | Shots:  77\n",
      "State:  {'x': 0.59375} | Shots:  66\n",
      "State:  {'x': 0.625} | Shots:  56\n",
      "State:  {'x': 0.65625} | Shots:  59\n",
      "State:  {'x': 0.6875} | Shots:  63\n",
      "State:  {'x': 0.71875} | Shots:  66\n",
      "State:  {'x': 0.75} | Shots:  72\n",
      "State:  {'x': 0.78125} | Shots:  71\n",
      "State:  {'x': 0.8125} | Shots:  42\n",
      "State:  {'x': 0.84375} | Shots:  75\n",
      "State:  {'x': 0.875} | Shots:  77\n",
      "State:  {'x': 0.90625} | Shots:  62\n",
      "State:  {'x': 0.9375} | Shots:  58\n",
      "State:  {'x': 0.96875} | Shots:  72\n"
     ]
    }
   ],
   "source": [
    "parsed_counts = job.result()[0].value.parsed_counts\n",
    "sorted_counts = sorted(parsed_counts, key=lambda x: x.state[\"x\"])\n",
    "for state_counts in sorted_counts: print('State: ', state_counts.state, '| Shots: ', state_counts.shots)"
   ]
  },
  {
   "cell_type": "markdown",
   "metadata": {},
   "source": [
    "## The Challenge Itself"
   ]
  },
  {
   "cell_type": "markdown",
   "metadata": {},
   "source": [
    "### Imports"
   ]
  },
  {
   "cell_type": "code",
   "execution_count": 10,
   "metadata": {},
   "outputs": [],
   "source": [
    "# All the imports needed\n",
    "from classiq import *\n",
    "\n",
    "from classiq.interface.backend.backend_preferences import ClassiqBackendPreferences\n",
    "from classiq.interface.executor.execution_preferences import ExecutionPreferences\n",
    "from classiq.interface.model.model import Model as Model_Designer\n",
    "\n",
    "import numpy as np\n",
    "import json"
   ]
  },
  {
   "cell_type": "markdown",
   "metadata": {},
   "source": [
    "### The Heart of the Code - Build Your Algorithm Here"
   ]
  },
  {
   "cell_type": "code",
   "execution_count": 52,
   "metadata": {},
   "outputs": [],
   "source": [
    " # The functions you need go here\n",
    "def mult_by_x(tmp: QNum, x: QNum):\n",
    "   tmp |= tmp*x\n",
    " \n",
    "def taylor_series_terms(tmp: QNum, x: QNum, exp: QParam[int], numer: QParam[int], denom: QParam[int]):\n",
    "       prepare_int(1, tmp)\n",
    "       repeat(count = exp, iteration=lambda i: mult_by_x(tmp, x))\n",
    "       tmp |=  tmp * (numer/denom)\n",
    " \n",
    " # The heart of the code - the function that calculates the hyperbolic tangent\n",
    "@QFunc\n",
    "def compute_tanh(precision: QParam[int],    # The precision of x and tanh_x - how many fraction digits will represent your solution\n",
    "                  x: QNum,                   # A quantum variable that is represents numbers\n",
    "                  tanh_x: Output[QNum]       # The output of the function, which means it needs to be initialized within the scope of the function\n",
    "):\n",
    "    prepare_int(1, tanh_x)\n",
    "    tanh_x |= tanh_x * x\n",
    "    \n",
    "    tmp = QNum('tmp')\n",
    "     \n",
    "    taylor_series_terms(tmp, x, 3, 1, 3)\n",
    "    tanh_x |= tanh_x - tmp\n",
    "       \n",
    "    taylor_series_terms(tmp, x, 5, 2, 15)\n",
    "    tanh_x |= tanh_x + tmp\n",
    "       \n",
    "    taylor_series_terms(tmp, x, 7, 17, 315)\n",
    "    tanh_x |= tanh_x - tmp"
   ]
  },
  {
   "cell_type": "code",
   "execution_count": 53,
   "metadata": {},
   "outputs": [],
   "source": [
    "# The heart of the code - the function that calculates the hyperbolic tangent\n",
    "@QFunc\n",
    "def compute_tanh(precision: QParam[int],    # The precision of x and tanh_x - how many fraction digits will represent your solution\n",
    "                  x: QNum,                   # A quantum variable that is represents numbers\n",
    "                  tanh_x: Output[QNum]       # The output of the function, which means it needs to be initialized within the scope of the function\n",
    "                  ):\n",
    "       tanh_x |= x - 0.33*x**3 + 0.13*x**5 - 0.05*x**7"
   ]
  },
  {
   "cell_type": "code",
   "execution_count": 54,
   "metadata": {},
   "outputs": [],
   "source": [
    "# Your precision value\n",
    "precision = 4"
   ]
  },
  {
   "cell_type": "code",
   "execution_count": 55,
   "metadata": {},
   "outputs": [],
   "source": [
    "# Do not change this part of the code !\n",
    "\n",
    "@QFunc\n",
    "def main(x: Output[QNum],y: Output[QNum]):\n",
    "\n",
    "    # A quantum variable which represents numbers is initialized\n",
    "    allocate_num(num_qubits=precision,      \n",
    "                is_signed=False,            \n",
    "                fraction_digits=precision,\n",
    "                out=x)\n",
    "    \n",
    "    # Initalizing over all possible values of the quantum number with the hadamard transform\n",
    "    hadamard_transform(x)\n",
    "\n",
    "    # Computing your compute_tanh function\n",
    "    compute_tanh(precision,x,y)\n",
    "\n",
    "# Generating the model itslef\n",
    "qmod = create_model(main)"
   ]
  },
  {
   "cell_type": "markdown",
   "metadata": {},
   "source": [
    "### Saving the Files - What You Need To Submit"
   ]
  },
  {
   "cell_type": "markdown",
   "metadata": {},
   "source": [
    "First, define the precisions of your solutions:"
   ]
  },
  {
   "cell_type": "code",
   "execution_count": 56,
   "metadata": {},
   "outputs": [],
   "source": [
    "#Precision values stages 1&2 - You need to enter these values in Google Form submission\n",
    "precision_value_stage_1 = 4 \n",
    "precision_value_stage_2 = 7"
   ]
  },
  {
   "cell_type": "markdown",
   "metadata": {},
   "source": [
    "Then we can create adapted quantum models for the two stages according to the corresponding precisions and constraints:"
   ]
  },
  {
   "cell_type": "code",
   "execution_count": 57,
   "metadata": {},
   "outputs": [],
   "source": [
    "def get_model_with_new_precision(qmod, new_precision):\n",
    "    '''\n",
    "    The function adapts the precision value in the qmod according to the new precision value given.\n",
    "    '''\n",
    "    \n",
    "    @QFunc\n",
    "    def compute_tanh(\n",
    "        precision: QParam[int],\n",
    "        x: QNum,\n",
    "        tanh_x: Output[QNum],\n",
    "    ):\n",
    "        # dummy implementation\n",
    "        allocate_num(precision, False, precision, tanh_x)\n",
    "\n",
    "    @QFunc\n",
    "    def main(x: Output[QNum], y: Output[QNum]):\n",
    "        allocate_num(new_precision, False, new_precision, x)\n",
    "        hadamard_transform(x)\n",
    "        compute_tanh(new_precision, x, y)\n",
    "\n",
    "    new_main = main.create_model().main_func\n",
    "    parsed_qmod = Model_Designer.parse_obj(json.loads(qmod))\n",
    "    new_model = Model_Designer(functions=[f for f in parsed_qmod.functions if f.name != \"main\"] + [new_main])\n",
    "    return new_model.get_model()\n",
    "\n",
    "\n",
    "# Adapting the qmod for the relevant constraints - stage 1\n",
    "max_width_stage_1 = 30\n",
    "max_depth_stage_1 = 3000\n",
    "synthesis_timeout_sec_stage_1 = 90\n",
    "qmod_stage_1 = get_model_with_new_precision(qmod,precision_value_stage_1)\n",
    "qmod_stage_1 = set_constraints(qmod_stage_1,Constraints(max_width=max_width_stage_1,max_depth=max_depth_stage_1))\n",
    "qmod_stage_1 = set_preferences(qmod_stage_1, Preferences(timeout_seconds=synthesis_timeout_sec_stage_1))\n",
    "\n",
    "# Adapting the qmod for the relevant constraints - stage 2\n",
    "max_width_stage_2 = 100\n",
    "max_depth_stage_2 = 30000\n",
    "synthesis_timeout_sec_stage_2 = 180\n",
    "optimization_param = \"depth\"\n",
    "qmod_stage_2 = get_model_with_new_precision(qmod,precision_value_stage_2)\n",
    "qmod_stage_2 = set_constraints(qmod_stage_2,Constraints(max_width=max_width_stage_2,max_depth=max_depth_stage_2,optimization_parameter=optimization_param))\n",
    "qmod_stage_2 = set_preferences(qmod_stage_2, Preferences(timeout_seconds=synthesis_timeout_sec_stage_2))\n"
   ]
  },
  {
   "cell_type": "markdown",
   "metadata": {},
   "source": [
    "Now in order to save the deliverables files, you should adapt the following file names including their locations (no need to include the file extensions, i.e. do not add `.qprog`/`.qmod` at the end):"
   ]
  },
  {
   "cell_type": "code",
   "execution_count": 58,
   "metadata": {},
   "outputs": [],
   "source": [
    "# Files names (no extensions needed!)\n",
    "file_name_qmod = 'qtry' #TODO change to your file_name\n",
    "file_name_qprog_stage_1 = 'qst1d' #TODO change to your file_name\n",
    "file_name_qprog_stage_2 = 'qst2d' #TODO change to your file_name"
   ]
  },
  {
   "cell_type": "markdown",
   "metadata": {},
   "source": [
    "Run the following cell to save the relevant deliverables:\n",
    "1. Your model (`.qmod` file)\n",
    "2. Your quantum program for stage 1 with the corresponding precision (`.qprog` file)\n",
    "3. Your quantum program for stage 2 with the corresponding precision (`.qprog` file)"
   ]
  },
  {
   "cell_type": "code",
   "execution_count": 62,
   "metadata": {},
   "outputs": [
    {
     "ename": "TypeError",
     "evalue": "synthesize_async() got an unexpected keyword argument 'max_depth'",
     "output_type": "error",
     "traceback": [
      "\u001b[1;31m---------------------------------------------------------------------------\u001b[0m",
      "\u001b[1;31mTypeError\u001b[0m                                 Traceback (most recent call last)",
      "Cell \u001b[1;32mIn[62], line 16\u001b[0m\n\u001b[0;32m     14\u001b[0m max_depth_stage_1 \u001b[38;5;241m=\u001b[39m \u001b[38;5;241m3000\u001b[39m\n\u001b[0;32m     15\u001b[0m max_width_stage_1 \u001b[38;5;241m=\u001b[39m \u001b[38;5;241m30\u001b[39m\n\u001b[1;32m---> 16\u001b[0m qprog_stage_1 \u001b[38;5;241m=\u001b[39m \u001b[43msynthesize\u001b[49m\u001b[43m(\u001b[49m\u001b[43mqmod_stage_1\u001b[49m\u001b[43m,\u001b[49m\u001b[43m \u001b[49m\u001b[43mmax_depth\u001b[49m\u001b[38;5;241;43m=\u001b[39;49m\u001b[43mmax_depth_stage_1\u001b[49m\u001b[43m,\u001b[49m\u001b[43m \u001b[49m\u001b[43mmax_width\u001b[49m\u001b[38;5;241;43m=\u001b[39;49m\u001b[43mmax_width_stage_1\u001b[49m\u001b[43m)\u001b[49m\n\u001b[0;32m     17\u001b[0m save_new_file(qprog_stage_1, file_name_qprog_stage_1\u001b[38;5;241m+\u001b[39m\u001b[38;5;124m'\u001b[39m\u001b[38;5;124m.qprog\u001b[39m\u001b[38;5;124m'\u001b[39m) \u001b[38;5;66;03m# You need to submit this file\u001b[39;00m\n\u001b[0;32m     19\u001b[0m \u001b[38;5;66;03m# Save the qprog of stage 2\u001b[39;00m\n",
      "File \u001b[1;32mc:\\Users\\Priya\\AppData\\Local\\Programs\\Python\\Python310\\lib\\site-packages\\classiq\\_internals\\async_utils.py:50\u001b[0m, in \u001b[0;36msyncify_function.<locals>.async_wrapper\u001b[1;34m(*args, **kwargs)\u001b[0m\n\u001b[0;32m     48\u001b[0m \u001b[38;5;129m@functools\u001b[39m\u001b[38;5;241m.\u001b[39mwraps(async_func)\n\u001b[0;32m     49\u001b[0m \u001b[38;5;28;01mdef\u001b[39;00m \u001b[38;5;21masync_wrapper\u001b[39m(\u001b[38;5;241m*\u001b[39margs: Any, \u001b[38;5;241m*\u001b[39m\u001b[38;5;241m*\u001b[39mkwargs: Any) \u001b[38;5;241m-\u001b[39m\u001b[38;5;241m>\u001b[39m T:\n\u001b[1;32m---> 50\u001b[0m     \u001b[38;5;28;01mreturn\u001b[39;00m run(async_func(\u001b[38;5;241m*\u001b[39margs, \u001b[38;5;241m*\u001b[39m\u001b[38;5;241m*\u001b[39mkwargs))\n",
      "\u001b[1;31mTypeError\u001b[0m: synthesize_async() got an unexpected keyword argument 'max_depth'"
     ]
    }
   ],
   "source": [
    "def save_new_file(program_to_save,file_name):\n",
    "    '''\n",
    "    A simple function that saves your code as a text file\n",
    "    '''\n",
    "    file = open(file_name,\"w\")\n",
    "    file.write(program_to_save)\n",
    "    file.close()\n",
    "\n",
    "\n",
    "# Saving the qmod\n",
    "save_new_file(qmod, file_name_qmod+'.qmod') # You need to submit this file\n",
    "\n",
    "# Save the qprof of stage 1\n",
    "max_depth_stage_1 = 3000\n",
    "max_width_stage_1 = 30\n",
    "qprog_stage_1 = synthesize(qmod_stage_1, max_depth=max_depth_stage_1, max_width=max_width_stage_1)\n",
    "save_new_file(qprog_stage_1, file_name_qprog_stage_1+'.qprog') # You need to submit this file\n",
    "\n",
    "# Save the qprog of stage 2\n",
    "max_depth_stage_2 = 30000\n",
    "max_width_stage_2 = 100\n",
    "qprog_stage_2 = synthesize(qmod_stage_2, max_depth=max_depth_stage_2, max_width=max_width_stage_2)\n",
    "save_new_file(qprog_stage_2, file_name_qprog_stage_2+'.qprog') # You need to submit this file# You need to submit this file"
   ]
  },
  {
   "cell_type": "code",
   "execution_count": null,
   "metadata": {},
   "outputs": [],
   "source": []
  },
  {
   "cell_type": "markdown",
   "metadata": {},
   "source": [
    "It's worth checking out your quantum programs by viewing them:"
   ]
  },
  {
   "cell_type": "code",
   "execution_count": 21,
   "metadata": {},
   "outputs": [
    {
     "ename": "NameError",
     "evalue": "name 'qprog_stage_1' is not defined",
     "output_type": "error",
     "traceback": [
      "\u001b[1;31m---------------------------------------------------------------------------\u001b[0m",
      "\u001b[1;31mNameError\u001b[0m                                 Traceback (most recent call last)",
      "Cell \u001b[1;32mIn[21], line 1\u001b[0m\n\u001b[1;32m----> 1\u001b[0m show(\u001b[43mqprog_stage_1\u001b[49m)\n",
      "\u001b[1;31mNameError\u001b[0m: name 'qprog_stage_1' is not defined"
     ]
    }
   ],
   "source": [
    "show(qprog_stage_1)"
   ]
  },
  {
   "cell_type": "code",
   "execution_count": 22,
   "metadata": {},
   "outputs": [
    {
     "ename": "NameError",
     "evalue": "name 'qprog_stage_2' is not defined",
     "output_type": "error",
     "traceback": [
      "\u001b[1;31m---------------------------------------------------------------------------\u001b[0m",
      "\u001b[1;31mNameError\u001b[0m                                 Traceback (most recent call last)",
      "Cell \u001b[1;32mIn[22], line 1\u001b[0m\n\u001b[1;32m----> 1\u001b[0m show(\u001b[43mqprog_stage_2\u001b[49m)\n",
      "\u001b[1;31mNameError\u001b[0m: name 'qprog_stage_2' is not defined"
     ]
    }
   ],
   "source": [
    "show(qprog_stage_2)"
   ]
  },
  {
   "cell_type": "markdown",
   "metadata": {},
   "source": [
    "### Evaluate Your Results"
   ]
  },
  {
   "cell_type": "markdown",
   "metadata": {},
   "source": [
    "Evaluate the results of stage 1:\n",
    "\n",
    "**NOTE!** \n",
    "- With the `aer_simulator` you can simulate up to 25 qubits circuit\n",
    "- With the `nvidia_state_vector_simulator` you can simulate up to 30 qubits circuit, but you can use it up to 10 times, so make sure to use it wisely"
   ]
  },
  {
   "cell_type": "code",
   "execution_count": 60,
   "metadata": {},
   "outputs": [
    {
     "name": "stdout",
     "output_type": "stream",
     "text": [
      "Synthesizing quantum program stage 1 with the execution preferences\n"
     ]
    },
    {
     "ename": "ClassiqAPIError",
     "evalue": "Error number 73900 occurred. Failed to generate the arithmetic computation with the given constraints\n\nError identifier: E7A688480-FEA4-4059-A497-A9DA84D4CDFB.\nIf you need further assistance, please reach out on our Community Slack channel at: https://short.classiq.io/join-slack\nIf the error persists feel free to open a ticket at: https://short.classiq.io/support",
     "output_type": "error",
     "traceback": [
      "\u001b[1;31m---------------------------------------------------------------------------\u001b[0m",
      "\u001b[1;31mClassiqAPIError\u001b[0m                           Traceback (most recent call last)",
      "Cell \u001b[1;32mIn[60], line 43\u001b[0m\n\u001b[0;32m     37\u001b[0m qmod_stage_1 \u001b[38;5;241m=\u001b[39m set_execution_preferences(qmod_stage_1, \n\u001b[0;32m     38\u001b[0m                                         ExecutionPreferences(\n\u001b[0;32m     39\u001b[0m                                             num_shots\u001b[38;5;241m=\u001b[39m\u001b[38;5;241m1000\u001b[39m,  \u001b[38;5;66;03m# The number of shots is a hyperparameter of the algorithm\u001b[39;00m\n\u001b[0;32m     40\u001b[0m                                             backend_preferences\u001b[38;5;241m=\u001b[39mClassiqBackendPreferences(\n\u001b[0;32m     41\u001b[0m                                                                     backend_name\u001b[38;5;241m=\u001b[39mbackend_name))) \u001b[38;5;66;03m#aer_simulator / nvidia_state_vector_simulator\u001b[39;00m\n\u001b[0;32m     42\u001b[0m \u001b[38;5;28mprint\u001b[39m(\u001b[38;5;124m'\u001b[39m\u001b[38;5;124mSynthesizing quantum program stage 1 with the execution preferences\u001b[39m\u001b[38;5;124m'\u001b[39m)\n\u001b[1;32m---> 43\u001b[0m qprog_stage_1 \u001b[38;5;241m=\u001b[39m \u001b[43msynthesize\u001b[49m\u001b[43m(\u001b[49m\u001b[43mqmod_stage_1\u001b[49m\u001b[43m)\u001b[49m\n\u001b[0;32m     44\u001b[0m print_depth_width(qprog_stage_1)\n\u001b[0;32m     45\u001b[0m \u001b[38;5;28mprint\u001b[39m(\u001b[38;5;124m'\u001b[39m\u001b[38;5;124mExecuting the quantum program\u001b[39m\u001b[38;5;124m'\u001b[39m)\n",
      "File \u001b[1;32mc:\\Users\\Priya\\AppData\\Local\\Programs\\Python\\Python310\\lib\\site-packages\\classiq\\_internals\\async_utils.py:50\u001b[0m, in \u001b[0;36msyncify_function.<locals>.async_wrapper\u001b[1;34m(*args, **kwargs)\u001b[0m\n\u001b[0;32m     48\u001b[0m \u001b[38;5;129m@functools\u001b[39m\u001b[38;5;241m.\u001b[39mwraps(async_func)\n\u001b[0;32m     49\u001b[0m \u001b[38;5;28;01mdef\u001b[39;00m \u001b[38;5;21masync_wrapper\u001b[39m(\u001b[38;5;241m*\u001b[39margs: Any, \u001b[38;5;241m*\u001b[39m\u001b[38;5;241m*\u001b[39mkwargs: Any) \u001b[38;5;241m-\u001b[39m\u001b[38;5;241m>\u001b[39m T:\n\u001b[1;32m---> 50\u001b[0m     \u001b[38;5;28;01mreturn\u001b[39;00m \u001b[43mrun\u001b[49m\u001b[43m(\u001b[49m\u001b[43masync_func\u001b[49m\u001b[43m(\u001b[49m\u001b[38;5;241;43m*\u001b[39;49m\u001b[43margs\u001b[49m\u001b[43m,\u001b[49m\u001b[43m \u001b[49m\u001b[38;5;241;43m*\u001b[39;49m\u001b[38;5;241;43m*\u001b[39;49m\u001b[43mkwargs\u001b[49m\u001b[43m)\u001b[49m\u001b[43m)\u001b[49m\n",
      "File \u001b[1;32mc:\\Users\\Priya\\AppData\\Local\\Programs\\Python\\Python310\\lib\\site-packages\\classiq\\_internals\\async_utils.py:44\u001b[0m, in \u001b[0;36mrun\u001b[1;34m(coro)\u001b[0m\n\u001b[0;32m     39\u001b[0m \u001b[38;5;28;01mdef\u001b[39;00m \u001b[38;5;21mrun\u001b[39m(coro: Awaitable[T]) \u001b[38;5;241m-\u001b[39m\u001b[38;5;241m>\u001b[39m T:\n\u001b[0;32m     40\u001b[0m     \u001b[38;5;66;03m# Use this function instead of asyncio.run, since it ALWAYS\u001b[39;00m\n\u001b[0;32m     41\u001b[0m     \u001b[38;5;66;03m# creates a new event loop and clears the thread event loop.\u001b[39;00m\n\u001b[0;32m     42\u001b[0m     \u001b[38;5;66;03m# Never use asyncio.run in library code.\u001b[39;00m\n\u001b[0;32m     43\u001b[0m     loop \u001b[38;5;241m=\u001b[39m get_event_loop()\n\u001b[1;32m---> 44\u001b[0m     \u001b[38;5;28;01mreturn\u001b[39;00m \u001b[43mloop\u001b[49m\u001b[38;5;241;43m.\u001b[39;49m\u001b[43mrun_until_complete\u001b[49m\u001b[43m(\u001b[49m\u001b[43mcoro\u001b[49m\u001b[43m)\u001b[49m\n",
      "File \u001b[1;32m~\\AppData\\Roaming\\Python\\Python310\\site-packages\\nest_asyncio.py:98\u001b[0m, in \u001b[0;36m_patch_loop.<locals>.run_until_complete\u001b[1;34m(self, future)\u001b[0m\n\u001b[0;32m     95\u001b[0m \u001b[38;5;28;01mif\u001b[39;00m \u001b[38;5;129;01mnot\u001b[39;00m f\u001b[38;5;241m.\u001b[39mdone():\n\u001b[0;32m     96\u001b[0m     \u001b[38;5;28;01mraise\u001b[39;00m \u001b[38;5;167;01mRuntimeError\u001b[39;00m(\n\u001b[0;32m     97\u001b[0m         \u001b[38;5;124m'\u001b[39m\u001b[38;5;124mEvent loop stopped before Future completed.\u001b[39m\u001b[38;5;124m'\u001b[39m)\n\u001b[1;32m---> 98\u001b[0m \u001b[38;5;28;01mreturn\u001b[39;00m \u001b[43mf\u001b[49m\u001b[38;5;241;43m.\u001b[39;49m\u001b[43mresult\u001b[49m\u001b[43m(\u001b[49m\u001b[43m)\u001b[49m\n",
      "File \u001b[1;32mc:\\Users\\Priya\\AppData\\Local\\Programs\\Python\\Python310\\lib\\asyncio\\futures.py:201\u001b[0m, in \u001b[0;36mFuture.result\u001b[1;34m(self)\u001b[0m\n\u001b[0;32m    199\u001b[0m \u001b[38;5;28mself\u001b[39m\u001b[38;5;241m.\u001b[39m__log_traceback \u001b[38;5;241m=\u001b[39m \u001b[38;5;28;01mFalse\u001b[39;00m\n\u001b[0;32m    200\u001b[0m \u001b[38;5;28;01mif\u001b[39;00m \u001b[38;5;28mself\u001b[39m\u001b[38;5;241m.\u001b[39m_exception \u001b[38;5;129;01mis\u001b[39;00m \u001b[38;5;129;01mnot\u001b[39;00m \u001b[38;5;28;01mNone\u001b[39;00m:\n\u001b[1;32m--> 201\u001b[0m     \u001b[38;5;28;01mraise\u001b[39;00m \u001b[38;5;28mself\u001b[39m\u001b[38;5;241m.\u001b[39m_exception\u001b[38;5;241m.\u001b[39mwith_traceback(\u001b[38;5;28mself\u001b[39m\u001b[38;5;241m.\u001b[39m_exception_tb)\n\u001b[0;32m    202\u001b[0m \u001b[38;5;28;01mreturn\u001b[39;00m \u001b[38;5;28mself\u001b[39m\u001b[38;5;241m.\u001b[39m_result\n",
      "File \u001b[1;32mc:\\Users\\Priya\\AppData\\Local\\Programs\\Python\\Python310\\lib\\asyncio\\tasks.py:232\u001b[0m, in \u001b[0;36mTask.__step\u001b[1;34m(***failed resolving arguments***)\u001b[0m\n\u001b[0;32m    228\u001b[0m \u001b[38;5;28;01mtry\u001b[39;00m:\n\u001b[0;32m    229\u001b[0m     \u001b[38;5;28;01mif\u001b[39;00m exc \u001b[38;5;129;01mis\u001b[39;00m \u001b[38;5;28;01mNone\u001b[39;00m:\n\u001b[0;32m    230\u001b[0m         \u001b[38;5;66;03m# We use the `send` method directly, because coroutines\u001b[39;00m\n\u001b[0;32m    231\u001b[0m         \u001b[38;5;66;03m# don't have `__iter__` and `__next__` methods.\u001b[39;00m\n\u001b[1;32m--> 232\u001b[0m         result \u001b[38;5;241m=\u001b[39m \u001b[43mcoro\u001b[49m\u001b[38;5;241;43m.\u001b[39;49m\u001b[43msend\u001b[49m\u001b[43m(\u001b[49m\u001b[38;5;28;43;01mNone\u001b[39;49;00m\u001b[43m)\u001b[49m\n\u001b[0;32m    233\u001b[0m     \u001b[38;5;28;01melse\u001b[39;00m:\n\u001b[0;32m    234\u001b[0m         result \u001b[38;5;241m=\u001b[39m coro\u001b[38;5;241m.\u001b[39mthrow(exc)\n",
      "File \u001b[1;32mc:\\Users\\Priya\\AppData\\Local\\Programs\\Python\\Python310\\lib\\site-packages\\classiq\\synthesis.py:21\u001b[0m, in \u001b[0;36msynthesize_async\u001b[1;34m(serialized_model)\u001b[0m\n\u001b[0;32m     17\u001b[0m \u001b[38;5;28;01masync\u001b[39;00m \u001b[38;5;28;01mdef\u001b[39;00m \u001b[38;5;21msynthesize_async\u001b[39m(\n\u001b[0;32m     18\u001b[0m     serialized_model: SerializedModelInput,\n\u001b[0;32m     19\u001b[0m ) \u001b[38;5;241m-\u001b[39m\u001b[38;5;241m>\u001b[39m SerializedQuantumProgram:\n\u001b[0;32m     20\u001b[0m     model: ModelInput \u001b[38;5;241m=\u001b[39m pydantic\u001b[38;5;241m.\u001b[39mparse_raw_as(ModelInput, serialized_model)  \u001b[38;5;66;03m# type: ignore[arg-type]\u001b[39;00m\n\u001b[1;32m---> 21\u001b[0m     quantum_program \u001b[38;5;241m=\u001b[39m \u001b[38;5;28;01mawait\u001b[39;00m ApiWrapper\u001b[38;5;241m.\u001b[39mcall_generation_task(model)\n\u001b[0;32m     22\u001b[0m     \u001b[38;5;28;01mreturn\u001b[39;00m SerializedQuantumProgram(quantum_program\u001b[38;5;241m.\u001b[39mjson(indent\u001b[38;5;241m=\u001b[39m\u001b[38;5;241m2\u001b[39m))\n",
      "File \u001b[1;32mc:\\Users\\Priya\\AppData\\Local\\Programs\\Python\\Python310\\lib\\site-packages\\classiq\\_internals\\api_wrapper.py:93\u001b[0m, in \u001b[0;36mApiWrapper.call_generation_task\u001b[1;34m(cls, model)\u001b[0m\n\u001b[0;32m     91\u001b[0m poller \u001b[38;5;241m=\u001b[39m JobPoller(base_url\u001b[38;5;241m=\u001b[39mroutes\u001b[38;5;241m.\u001b[39mTASKS_GENERATE_FULL_PATH)\n\u001b[0;32m     92\u001b[0m result \u001b[38;5;241m=\u001b[39m \u001b[38;5;28;01mawait\u001b[39;00m poller\u001b[38;5;241m.\u001b[39mrun_pydantic(model, timeout_sec\u001b[38;5;241m=\u001b[39m\u001b[38;5;28;01mNone\u001b[39;00m)\n\u001b[1;32m---> 93\u001b[0m \u001b[38;5;28;01mreturn\u001b[39;00m \u001b[43m_parse_job_response\u001b[49m\u001b[43m(\u001b[49m\u001b[43mresult\u001b[49m\u001b[43m,\u001b[49m\u001b[43m \u001b[49m\u001b[43mgenerator_result\u001b[49m\u001b[38;5;241;43m.\u001b[39;49m\u001b[43mGeneratedCircuit\u001b[49m\u001b[43m)\u001b[49m\n",
      "File \u001b[1;32mc:\\Users\\Priya\\AppData\\Local\\Programs\\Python\\Python310\\lib\\site-packages\\classiq\\_internals\\api_wrapper.py:46\u001b[0m, in \u001b[0;36m_parse_job_response\u001b[1;34m(job_result, output_type)\u001b[0m\n\u001b[0;32m     44\u001b[0m description \u001b[38;5;241m=\u001b[39m job_result\u001b[38;5;241m.\u001b[39mdescription\n\u001b[0;32m     45\u001b[0m \u001b[38;5;28;01mif\u001b[39;00m job_result\u001b[38;5;241m.\u001b[39mstatus \u001b[38;5;241m!=\u001b[39m JobStatus\u001b[38;5;241m.\u001b[39mCOMPLETED:\n\u001b[1;32m---> 46\u001b[0m     \u001b[38;5;28;01mraise\u001b[39;00m ClassiqAPIError(description[\u001b[38;5;124m\"\u001b[39m\u001b[38;5;124mdetails\u001b[39m\u001b[38;5;124m\"\u001b[39m])\n\u001b[0;32m     47\u001b[0m \u001b[38;5;28;01mreturn\u001b[39;00m output_type\u001b[38;5;241m.\u001b[39mparse_obj(description)\n",
      "\u001b[1;31mClassiqAPIError\u001b[0m: Error number 73900 occurred. Failed to generate the arithmetic computation with the given constraints\n\nError identifier: E7A688480-FEA4-4059-A497-A9DA84D4CDFB.\nIf you need further assistance, please reach out on our Community Slack channel at: https://short.classiq.io/join-slack\nIf the error persists feel free to open a ticket at: https://short.classiq.io/support"
     ]
    }
   ],
   "source": [
    "\n",
    "def evaluate_score_stage_1(results, user_input_precision):\n",
    "\n",
    "    # The array of values the code is compared against \n",
    "    calculated_precision = 10\n",
    "    domain = np.arange(0, 1, 1/ 2**calculated_precision)\n",
    "    expected_y = np.tanh(domain)\n",
    "    \n",
    "    # Sort the results according to the values of x\n",
    "    parsed_counts = sorted(results[0].value.parsed_counts, key=lambda x: x.state[\"x\"])\n",
    "    for tuple in parsed_counts: print(tuple.state)\n",
    "\n",
    "    # Form the relevant dictionary with values of 'x' and 'y'\n",
    "    results_dict = {s.state['x']: s.state['y'] for s in parsed_counts}\n",
    "\n",
    "    # Verify all strings were sampled, also no superpositions\n",
    "    assert len(results_dict) == 2 ** user_input_precision \n",
    "\n",
    "    # Comparing to the users results\n",
    "    measured_y = []\n",
    "    for x_val in domain:\n",
    "        # The y value that is assesd at x_val is the y value of the first x the user has such that x<x_val\n",
    "        x_val_floored = int(x_val * (2**user_input_precision)) / (2**user_input_precision)\n",
    "        measured_y.append(results_dict[x_val_floored])\n",
    "\n",
    "    # The metric asseses what's the largest distancce between the expected value and the measured value, the smallest the better\n",
    "    max_distance = np.max(np.abs(expected_y - np.array(measured_y)))\n",
    "    return max_distance\n",
    "\n",
    "def print_depth_width(quantum_program):\n",
    "    generated_circuit = GeneratedCircuit.parse_obj(json.loads(quantum_program))\n",
    "    print(f\"Synthesized circuit width: {generated_circuit.data.width}, depth: {generated_circuit.transpiled_circuit.depth}\")\n",
    "\n",
    "# Execution parameters\n",
    "num_shots = 1000\n",
    "backend_name = \"aer_simulator\" # \"aer_simulator\", \"nvidia_state_vector_simulator\"\n",
    "\n",
    "qmod_stage_1 = set_execution_preferences(qmod_stage_1, \n",
    "                                        ExecutionPreferences(\n",
    "                                            num_shots=1000,  # The number of shots is a hyperparameter of the algorithm\n",
    "                                            backend_preferences=ClassiqBackendPreferences(\n",
    "                                                                    backend_name=backend_name))) #aer_simulator / nvidia_state_vector_simulator\n",
    "print('Synthesizing quantum program stage 1 with the execution preferences')\n",
    "qprog_stage_1 = synthesize(qmod_stage_1)\n",
    "print_depth_width(qprog_stage_1)\n",
    "print('Executing the quantum program')\n",
    "results = execute(qprog_stage_1).result()\n",
    "print(\"Results of stage 1 \\n Max distance = \", evaluate_score_stage_1(results, precision_value_stage_1))"
   ]
  },
  {
   "cell_type": "markdown",
   "metadata": {},
   "source": [
    "Evluate the results of stage 2:"
   ]
  },
  {
   "cell_type": "code",
   "execution_count": null,
   "metadata": {},
   "outputs": [],
   "source": [
    "generated_circuit = GeneratedCircuit.parse_obj(json.loads(qprog_stage_2))\n",
    "print(f'\\nResults of stage 2 \\nPrecision = {precision_value_stage_2}, Circuit depth = {generated_circuit.transpiled_circuit.depth}')"
   ]
  },
  {
   "cell_type": "markdown",
   "metadata": {},
   "source": [
    "## Cheat Sheet"
   ]
  },
  {
   "cell_type": "markdown",
   "metadata": {},
   "source": []
  }
 ],
 "metadata": {
  "kernelspec": {
   "display_name": "Python 3.9.7 ('classiq_0_36_1')",
   "language": "python",
   "name": "python3"
  },
  "language_info": {
   "codemirror_mode": {
    "name": "ipython",
    "version": 3
   },
   "file_extension": ".py",
   "mimetype": "text/x-python",
   "name": "python",
   "nbconvert_exporter": "python",
   "pygments_lexer": "ipython3",
   "version": "3.10.10"
  },
  "orig_nbformat": 4,
  "vscode": {
   "interpreter": {
    "hash": "39f2fb914d68d910e6a44db3a048977f45af665714e1ed570fe3896698105d3f"
   }
  }
 },
 "nbformat": 4,
 "nbformat_minor": 2
}
